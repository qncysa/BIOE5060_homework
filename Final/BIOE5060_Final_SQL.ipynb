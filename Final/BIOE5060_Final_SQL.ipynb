{
  "nbformat": 4,
  "nbformat_minor": 0,
  "metadata": {
    "colab": {
      "provenance": []
    },
    "kernelspec": {
      "name": "python3",
      "display_name": "Python 3"
    },
    "language_info": {
      "name": "python"
    }
  },
  "cells": [
    {
      "cell_type": "markdown",
      "source": [
        "BIOE5060 Essential Computing Skills for Bioengineers | Prof. Qianqian Fang\n",
        "\n",
        "Final Project | SQL Jupyter Notebook Tutorial\n",
        "\n",
        "Fall 2024 | December 9th, 2024\n",
        "\n",
        "\n",
        "Quincy Sasson\n",
        "\n"
      ],
      "metadata": {
        "id": "81cXxZY4NH_l"
      }
    },
    {
      "cell_type": "markdown",
      "source": [
        "Step 0 - Steup the notebook environment and move on"
      ],
      "metadata": {
        "id": "1rLYQnUlN1rW"
      }
    },
    {
      "cell_type": "code",
      "source": [
        "!pip install jupysql --quiet\n",
        "\n",
        "%load_ext sql\n",
        "%config SqlMagic.displaylimit = None"
      ],
      "metadata": {
        "colab": {
          "base_uri": "https://localhost:8080/",
          "height": 88
        },
        "collapsed": true,
        "id": "6XwMxhvhOJyZ",
        "outputId": "ca15597f-1625-45b6-aca3-20747d08ded1"
      },
      "execution_count": 1,
      "outputs": [
        {
          "output_type": "stream",
          "name": "stdout",
          "text": [
            "\u001b[?25l   \u001b[90m━━━━━━━━━━━━━━━━━━━━━━━━━━━━━━━━━━━━━━━━\u001b[0m \u001b[32m0.0/95.1 kB\u001b[0m \u001b[31m?\u001b[0m eta \u001b[36m-:--:--\u001b[0m\r\u001b[2K   \u001b[90m━━━━━━━━━━━━━━━━━━━━━━━━━━━━━━━━━━━━━━━━\u001b[0m \u001b[32m95.1/95.1 kB\u001b[0m \u001b[31m2.6 MB/s\u001b[0m eta \u001b[36m0:00:00\u001b[0m\n",
            "\u001b[?25h\u001b[?25l   \u001b[90m━━━━━━━━━━━━━━━━━━━━━━━━━━━━━━━━━━━━━━━━\u001b[0m \u001b[32m0.0/192.8 kB\u001b[0m \u001b[31m?\u001b[0m eta \u001b[36m-:--:--\u001b[0m\r\u001b[2K   \u001b[90m━━━━━━━━━━━━━━━━━━━━━━━━━━━━━━━━━━━━━━━━\u001b[0m \u001b[32m192.8/192.8 kB\u001b[0m \u001b[31m8.1 MB/s\u001b[0m eta \u001b[36m0:00:00\u001b[0m\n",
            "\u001b[?25h\u001b[?25l   \u001b[90m━━━━━━━━━━━━━━━━━━━━━━━━━━━━━━━━━━━━━━━━\u001b[0m \u001b[32m0.0/54.8 kB\u001b[0m \u001b[31m?\u001b[0m eta \u001b[36m-:--:--\u001b[0m\r\u001b[2K   \u001b[90m━━━━━━━━━━━━━━━━━━━━━━━━━━━━━━━━━━━━━━━━\u001b[0m \u001b[32m54.8/54.8 kB\u001b[0m \u001b[31m3.1 MB/s\u001b[0m eta \u001b[36m0:00:00\u001b[0m\n",
            "\u001b[?25h"
          ]
        },
        {
          "output_type": "display_data",
          "data": {
            "text/plain": [
              "displaylimit: Value None will be treated as 0 (no limit)"
            ],
            "text/html": [
              "<span style=\"None\">displaylimit: Value None will be treated as 0 (no limit)</span>"
            ]
          },
          "metadata": {}
        }
      ]
    },
    {
      "cell_type": "markdown",
      "source": [
        "Outline\n",
        "- SQL Overview\n",
        "- History\n",
        "- Language Synopsis\n",
        " - Basic Querying and Implementation of Langauge\n",
        " - Branches + Loops\n",
        " - Intermediate and Unique Features\n",
        "- Functions + Programs\n",
        "- Reading + Writing Files"
      ],
      "metadata": {
        "id": "ASmV_ZJUEeL1"
      }
    },
    {
      "cell_type": "markdown",
      "source": [
        "SQL Overview\n",
        "- What is SQL?\n",
        "  \n",
        "  SQL or Structured Query Language is a domain-specific langauge used to manage and manipulate relational databases. It is the standard language used for database management systems.\n",
        "\n",
        "- Strengths + Advantages\n",
        "  - Data Management: SQL is the standard language for interacting with relational databases\n",
        "  - Portability: Works across multiple database systems\n",
        "  - Ease of Use: SQL's syntax is straightforward and beginner friendly\n",
        "  - Scalability: hanfles small datasets to enterprise-level data\n",
        "  - Rich Feature Set: Offers robust tools for data querying, analysis, and manipulation"
      ],
      "metadata": {
        "id": "yho-katjFLNW"
      }
    },
    {
      "cell_type": "markdown",
      "source": [
        "Brief History\n",
        "- Developed in the 1970s at IBM by Donald D. Chamberlin and Raymond F Boyce.\n",
        "- Standardized by ANSI in 1986 and ISO in 1987.\n",
        "- SQL has been widely adopted in relational database management systems like MySQL, PostgreSQL, and Oracle.\n",
        "- Continuously evolving with features like window functions, JSON support, and recurse queries."
      ],
      "metadata": {
        "id": "wQD43_FVGXk0"
      }
    },
    {
      "cell_type": "markdown",
      "source": [
        "Language Synposis\n",
        "- Data Types\n",
        "  - INTEGER: Whole Numbers\n",
        "  - REAL: Decimal Numbers\n",
        "  - TEXT: Strings\n",
        "  - BOOLEAN: True/False Values\n",
        "  - DATE: YYYY-MM-DD\n",
        "  - NULL: Placeholder for Missing Data\n",
        "  - BLOB: Binary Large Object, Varying Length Binary String\n",
        "- Operators\n",
        "  - Arithmetic: +, -, *, /, %\n",
        "  - Aggregate: MIN(), MAX(), COUNT(), SUM(), AVG()\n",
        "  - Comparison: =, >, >=, =<, <, != or <>\n",
        "  - Logical: AND, OR, NOT\n",
        "  - Set: IN, NOT IN\n",
        "  - Pattern Matching: LIKE, ILIKE\n",
        "    - %: Matches Zero or More Characters\n",
        "    - _: Matches Exactly One Character\n",
        "- Branch/Loop Conditions\n",
        "  - SQL does not natively support branching or loops, however, it is possible to implement them.\n",
        "  - CASE Statements: Conditional Logical in Queries\n",
        "  - Stored Procedures: Include Conditional Logic and Looping\n",
        "- Intermediate and Unique Features\n",
        "  - Index: Speed Up Data Retrieval\n",
        "  - Joins: Combine Data from Multiple Tables"
      ],
      "metadata": {
        "id": "rBQKHxJuGv8v"
      }
    },
    {
      "cell_type": "code",
      "source": [
        "%%sql sqlite://\n",
        "\n",
        "-- Basic Data Types\n",
        "\n",
        "CREATE TABLE example(\n",
        "  id INTEGER,\n",
        "  name TEXT,\n",
        "  price REAL\n",
        ");"
      ],
      "metadata": {
        "colab": {
          "base_uri": "https://localhost:8080/",
          "height": 34
        },
        "id": "NSyFdLGGHWdG",
        "outputId": "aaba90dc-8b90-4021-ad78-a41e44807edd"
      },
      "execution_count": 2,
      "outputs": [
        {
          "output_type": "display_data",
          "data": {
            "text/plain": [
              "Connecting to 'sqlite://'"
            ],
            "text/html": [
              "<span style=\"None\">Connecting to &#x27;sqlite://&#x27;</span>"
            ]
          },
          "metadata": {}
        },
        {
          "output_type": "execute_result",
          "data": {
            "text/plain": [
              "++\n",
              "||\n",
              "++\n",
              "++"
            ],
            "text/html": [
              "<table>\n",
              "    <thead>\n",
              "        <tr>\n",
              "        </tr>\n",
              "    </thead>\n",
              "    <tbody>\n",
              "    </tbody>\n",
              "</table>"
            ]
          },
          "metadata": {},
          "execution_count": 2
        }
      ]
    },
    {
      "cell_type": "code",
      "source": [
        "%%sql sqlite://\n",
        "\n",
        "-- Insert Data into Table\n",
        "\n",
        "CREATE TABLE address(\n",
        "  street TEXT,\n",
        "  city TEXT,\n",
        "  state TEXT,\n",
        "  zip INTEGER\n",
        ");\n",
        "\n",
        "INSERT INTO address VALUES ('1600 Pennsylvania Ave NW', 'Washington', 'DC', 20500); -- White House\n",
        "INSERT INTO address VALUES ('601 Lexington Avenue 153 E 53rd St', 'New York', 'NY', 10022); -- Citgroup Center"
      ],
      "metadata": {
        "colab": {
          "base_uri": "https://localhost:8080/",
          "height": 52
        },
        "id": "_RKuIiZVH_8-",
        "outputId": "ee47533e-06d7-4e63-d2d3-45d7bc5d0e82"
      },
      "execution_count": 3,
      "outputs": [
        {
          "output_type": "display_data",
          "data": {
            "text/plain": [
              "1 rows affected."
            ],
            "text/html": [
              "<span style=\"color: green\">1 rows affected.</span>"
            ]
          },
          "metadata": {}
        },
        {
          "output_type": "display_data",
          "data": {
            "text/plain": [
              "1 rows affected."
            ],
            "text/html": [
              "<span style=\"color: green\">1 rows affected.</span>"
            ]
          },
          "metadata": {}
        },
        {
          "output_type": "execute_result",
          "data": {
            "text/plain": [
              "++\n",
              "||\n",
              "++\n",
              "++"
            ],
            "text/html": [
              "<table>\n",
              "    <thead>\n",
              "        <tr>\n",
              "        </tr>\n",
              "    </thead>\n",
              "    <tbody>\n",
              "    </tbody>\n",
              "</table>"
            ]
          },
          "metadata": {},
          "execution_count": 3
        }
      ]
    },
    {
      "cell_type": "code",
      "source": [
        "%%sql sqlite://\n",
        "\n",
        "-- Retrieval Data from Table\n",
        "\n",
        "SELECT *\n",
        "FROM address\n",
        "-- WHERE state = 'DC';"
      ],
      "metadata": {
        "colab": {
          "base_uri": "https://localhost:8080/",
          "height": 62
        },
        "id": "QaW4k_hC9kNa",
        "outputId": "2fe94381-0a32-4398-a05e-70ad08fbe506"
      },
      "execution_count": 5,
      "outputs": [
        {
          "output_type": "execute_result",
          "data": {
            "text/plain": [
              "+--------------------------+------------+-------+-------+\n",
              "|          street          |    city    | state |  zip  |\n",
              "+--------------------------+------------+-------+-------+\n",
              "| 1600 Pennsylvania Ave NW | Washington |   DC  | 20500 |\n",
              "+--------------------------+------------+-------+-------+"
            ],
            "text/html": [
              "<table>\n",
              "    <thead>\n",
              "        <tr>\n",
              "            <th>street</th>\n",
              "            <th>city</th>\n",
              "            <th>state</th>\n",
              "            <th>zip</th>\n",
              "        </tr>\n",
              "    </thead>\n",
              "    <tbody>\n",
              "        <tr>\n",
              "            <td>1600 Pennsylvania Ave NW</td>\n",
              "            <td>Washington</td>\n",
              "            <td>DC</td>\n",
              "            <td>20500</td>\n",
              "        </tr>\n",
              "    </tbody>\n",
              "</table>"
            ]
          },
          "metadata": {},
          "execution_count": 5
        }
      ]
    },
    {
      "cell_type": "markdown",
      "source": [
        "### Example Set Up"
      ],
      "metadata": {
        "id": "aOXqJZZMqAE8"
      }
    },
    {
      "cell_type": "code",
      "source": [
        "%%sql sqlite://\n",
        "CREATE TABLE customers (name, address, state, customer_id, email);\n",
        "INSERT INTO customers VALUES ('Alice Smith', '123 Elm Street', 'California', 1001, 'alice.smith@example.com');\n",
        "INSERT INTO customers VALUES ('Bob Johnson', '456 Oak Avenue', 'New York', 1002, 'bob.johnson@example.com');\n",
        "INSERT INTO customers VALUES ('Charlie Brown', '789 Pine Lane', 'Texas', 1003, 'charlie.brown@example.com');\n",
        "INSERT INTO customers VALUES ('Diana Green', '321 Maple Drive', 'Florida', 1004, 'diana.green@example.com');\n",
        "INSERT INTO customers VALUES ('Edward White', '654 Birch Court', 'Illinois', 1005, 'edward.white@example.com');\n",
        "INSERT INTO customers VALUES ('Fiona Black', '987 Cedar Road', 'Nevada', 1006, 'fiona.black@example.com');\n",
        "INSERT INTO customers VALUES ('George Miller', '159 Spruce Street', 'Washington', 1007, 'george.miller@example.com');\n",
        "INSERT INTO customers VALUES ('Hannah Lee', '753 Redwood Boulevard', 'Oregon', 1008, 'hannah.lee@example.com');\n",
        "INSERT INTO customers VALUES ('Ian Walker', '951 Willow Parkway', 'Arizona', 1009, 'ian.walker@example.com');\n",
        "INSERT INTO customers VALUES ('Jackie Robinson', '246 Aspen Terrace', 'Colorado', 1010, 'jackie.robinson@example.com');\n",
        "INSERT INTO customers VALUES ('Karen Hall', '135 Fir Way', 'Georgia', 1011, 'karen.hall@example.com');\n",
        "INSERT INTO customers VALUES ('Liam King', '864 Cypress Path', 'Alabama', 1012, 'liam.king@example.com');\n",
        "INSERT INTO customers VALUES ('Molly Adams', '482 Palm Circle', 'Michigan', 1013, 'molly.adams@example.com');\n",
        "INSERT INTO customers VALUES ('Nathan Carter', '798 Chestnut Row', 'Ohio', 1014, 'nathan.carter@example.com');\n",
        "INSERT INTO customers VALUES ('Olivia Scott', '310 Walnut Loop', 'Indiana', 1015, 'olivia.scott@example.com');\n",
        "INSERT INTO customers VALUES ('Paul Turner', '657 Magnolia Way', 'Missouri', 1016, 'paul.turner@example.com');\n",
        "INSERT INTO customers VALUES ('Quinn Harris', '972 Poplar Drive', 'Kentucky', 1017, 'quinn.harris@example.com');\n",
        "INSERT INTO customers VALUES ('Rachel Wright', '583 Sycamore Court', 'Virginia', 1018, 'rachel.wright@example.com');\n",
        "INSERT INTO customers VALUES ('Samuel Young', '794 Hickory Grove', 'Tennessee', 1019, 'samuel.young@example.com');\n",
        "INSERT INTO customers VALUES ('Tina Mitchell', '241 Dogwood Lane', 'Minnesota', 1020, 'tina.mitchell@example.com');\n",
        "INSERT INTO customers VALUES ('Umar Reed', '689 Alder Place', 'Mississippi', 1021, 'umar.reed@example.com');\n",
        "INSERT INTO customers VALUES ('Victoria Hughes', '394 Pinecone Trail', 'Wisconsin', 1022, 'victoria.hughes@example.com');\n",
        "INSERT INTO customers VALUES ('William Bryant', '847 Laurel Avenue', 'South Carolina', 1023, 'william.bryant@example.com');\n",
        "INSERT INTO customers VALUES ('Xena Harper', '206 Peach Tree Blvd', 'North Carolina', 1024, 'xena.harper@example.com');\n",
        "INSERT INTO customers VALUES ('Yasmine Morris', '715 Mahogany Street', 'Louisiana', 1025, 'yasmine.morris@example.com');\n",
        "INSERT INTO customers VALUES ('Zachary Ford', '523 Eucalyptus Lane', 'Arkansas', 1026, 'zachary.ford@example.com');\n",
        "INSERT INTO customers VALUES ('Abigail Brooks', '192 Ironwood Circle', 'Montana', 1027, 'abigail.brooks@example.com');\n",
        "INSERT INTO customers VALUES ('Benjamin Fisher', '430 Maplewood Drive', 'West Virginia', 1028, 'benjamin.fisher@example.com');\n",
        "INSERT INTO customers VALUES ('Catherine James', '657 Hemlock Road', 'Nebraska', 1029, 'catherine.james@example.com');\n",
        "INSERT INTO customers VALUES ('David Ellis', '853 Banyan Court', 'South Dakota', 1030, 'david.ellis@example.com');\n",
        "INSERT INTO customers VALUES ('Elena Peters', '481 Juniper Path', 'North Dakota', 1031, 'elena.peters@example.com');\n",
        "INSERT INTO customers VALUES ('Franklin Ross', '215 Sequoia Place', 'Hawaii', 1032, 'franklin.ross@example.com');\n",
        "INSERT INTO customers VALUES ('Grace Coleman', '619 Beech Road', 'Alaska', 1033, 'grace.coleman@example.com');\n",
        "INSERT INTO customers VALUES ('Henry Ramirez', '728 Aspen Way', 'Maine', 1034, 'henry.ramirez@example.com');\n",
        "INSERT INTO customers VALUES ('Isla Clark', '913 Maple Ridge', 'New Hampshire', 1035, 'isla.clark@example.com');\n",
        "INSERT INTO customers VALUES ('Jacob Hill', '376 Oak Leaf Lane', 'Vermont', 1036, 'jacob.hill@example.com');\n",
        "INSERT INTO customers VALUES ('Kaitlyn Perez', '842 Birchwood Circle', 'Delaware', 1037, 'kaitlyn.perez@example.com');\n",
        "INSERT INTO customers VALUES ('Logan Simmons', '495 Elm Grove', 'Rhode Island', 1038, 'logan.simmons@example.com');\n",
        "INSERT INTO customers VALUES ('Megan Foster', '354 Pine Meadow', 'Connecticut', 1039, 'megan.foster@example.com');\n",
        "INSERT INTO customers VALUES ('Noah Gonzales', '517 Cedarwood Trail', 'Massachusetts', 1040, 'noah.gonzales@example.com');\n",
        "INSERT INTO customers VALUES ('Olivia Russell', '824 Spruce Cove', 'Pennsylvania', 1041, 'olivia.russell@example.com');\n",
        "INSERT INTO customers VALUES ('Parker Hayes', '268 Redwood Forest', 'Maryland', 1042, 'parker.hayes@example.com');\n",
        "INSERT INTO customers VALUES ('Quincy Bennett', '357 Hickory Hill', 'New Jersey', 1043, 'quincy.bennett@example.com');\n",
        "INSERT INTO customers VALUES ('Riley Torres', '629 Palm Ridge', 'New Mexico', 1044, 'riley.torres@example.com');\n",
        "INSERT INTO customers VALUES ('Sophia Reed', '418 Poplar Grove', 'Utah', 1045, 'sophia.reed@example.com');\n",
        "INSERT INTO customers VALUES ('Thomas Lewis', '906 Walnut Bend', 'Kansas', 1046, 'thomas.lewis@example.com');\n",
        "INSERT INTO customers VALUES ('Uma Edwards', '712 Magnolia Place', 'Oklahoma', 1047, 'uma.edwards@example.com');\n",
        "INSERT INTO customers VALUES ('Victor Hall', '295 Dogwood Lane', 'Idaho', 1048, 'victor.hall@example.com');\n",
        "INSERT INTO customers VALUES ('Wendy Bell', '816 Sycamore Street', 'Wyoming', 1049, 'wendy.bell@example.com');\n",
        "INSERT INTO customers VALUES ('Xander Scott', '372 Alder Grove', 'Montana', 1050, 'xander.scott@example.com');"
      ],
      "metadata": {
        "colab": {
          "base_uri": "https://localhost:8080/",
          "height": 885
        },
        "collapsed": true,
        "id": "Za16XfUiJ0Ou",
        "outputId": "3e7415bf-0fa3-441c-9e0c-077af52bc2e5"
      },
      "execution_count": 6,
      "outputs": [
        {
          "output_type": "display_data",
          "data": {
            "text/plain": [
              "1 rows affected."
            ],
            "text/html": [
              "<span style=\"color: green\">1 rows affected.</span>"
            ]
          },
          "metadata": {}
        },
        {
          "output_type": "display_data",
          "data": {
            "text/plain": [
              "1 rows affected."
            ],
            "text/html": [
              "<span style=\"color: green\">1 rows affected.</span>"
            ]
          },
          "metadata": {}
        },
        {
          "output_type": "display_data",
          "data": {
            "text/plain": [
              "1 rows affected."
            ],
            "text/html": [
              "<span style=\"color: green\">1 rows affected.</span>"
            ]
          },
          "metadata": {}
        },
        {
          "output_type": "display_data",
          "data": {
            "text/plain": [
              "1 rows affected."
            ],
            "text/html": [
              "<span style=\"color: green\">1 rows affected.</span>"
            ]
          },
          "metadata": {}
        },
        {
          "output_type": "display_data",
          "data": {
            "text/plain": [
              "1 rows affected."
            ],
            "text/html": [
              "<span style=\"color: green\">1 rows affected.</span>"
            ]
          },
          "metadata": {}
        },
        {
          "output_type": "display_data",
          "data": {
            "text/plain": [
              "1 rows affected."
            ],
            "text/html": [
              "<span style=\"color: green\">1 rows affected.</span>"
            ]
          },
          "metadata": {}
        },
        {
          "output_type": "display_data",
          "data": {
            "text/plain": [
              "1 rows affected."
            ],
            "text/html": [
              "<span style=\"color: green\">1 rows affected.</span>"
            ]
          },
          "metadata": {}
        },
        {
          "output_type": "display_data",
          "data": {
            "text/plain": [
              "1 rows affected."
            ],
            "text/html": [
              "<span style=\"color: green\">1 rows affected.</span>"
            ]
          },
          "metadata": {}
        },
        {
          "output_type": "display_data",
          "data": {
            "text/plain": [
              "1 rows affected."
            ],
            "text/html": [
              "<span style=\"color: green\">1 rows affected.</span>"
            ]
          },
          "metadata": {}
        },
        {
          "output_type": "display_data",
          "data": {
            "text/plain": [
              "1 rows affected."
            ],
            "text/html": [
              "<span style=\"color: green\">1 rows affected.</span>"
            ]
          },
          "metadata": {}
        },
        {
          "output_type": "display_data",
          "data": {
            "text/plain": [
              "1 rows affected."
            ],
            "text/html": [
              "<span style=\"color: green\">1 rows affected.</span>"
            ]
          },
          "metadata": {}
        },
        {
          "output_type": "display_data",
          "data": {
            "text/plain": [
              "1 rows affected."
            ],
            "text/html": [
              "<span style=\"color: green\">1 rows affected.</span>"
            ]
          },
          "metadata": {}
        },
        {
          "output_type": "display_data",
          "data": {
            "text/plain": [
              "1 rows affected."
            ],
            "text/html": [
              "<span style=\"color: green\">1 rows affected.</span>"
            ]
          },
          "metadata": {}
        },
        {
          "output_type": "display_data",
          "data": {
            "text/plain": [
              "1 rows affected."
            ],
            "text/html": [
              "<span style=\"color: green\">1 rows affected.</span>"
            ]
          },
          "metadata": {}
        },
        {
          "output_type": "display_data",
          "data": {
            "text/plain": [
              "1 rows affected."
            ],
            "text/html": [
              "<span style=\"color: green\">1 rows affected.</span>"
            ]
          },
          "metadata": {}
        },
        {
          "output_type": "display_data",
          "data": {
            "text/plain": [
              "1 rows affected."
            ],
            "text/html": [
              "<span style=\"color: green\">1 rows affected.</span>"
            ]
          },
          "metadata": {}
        },
        {
          "output_type": "display_data",
          "data": {
            "text/plain": [
              "1 rows affected."
            ],
            "text/html": [
              "<span style=\"color: green\">1 rows affected.</span>"
            ]
          },
          "metadata": {}
        },
        {
          "output_type": "display_data",
          "data": {
            "text/plain": [
              "1 rows affected."
            ],
            "text/html": [
              "<span style=\"color: green\">1 rows affected.</span>"
            ]
          },
          "metadata": {}
        },
        {
          "output_type": "display_data",
          "data": {
            "text/plain": [
              "1 rows affected."
            ],
            "text/html": [
              "<span style=\"color: green\">1 rows affected.</span>"
            ]
          },
          "metadata": {}
        },
        {
          "output_type": "display_data",
          "data": {
            "text/plain": [
              "1 rows affected."
            ],
            "text/html": [
              "<span style=\"color: green\">1 rows affected.</span>"
            ]
          },
          "metadata": {}
        },
        {
          "output_type": "display_data",
          "data": {
            "text/plain": [
              "1 rows affected."
            ],
            "text/html": [
              "<span style=\"color: green\">1 rows affected.</span>"
            ]
          },
          "metadata": {}
        },
        {
          "output_type": "display_data",
          "data": {
            "text/plain": [
              "1 rows affected."
            ],
            "text/html": [
              "<span style=\"color: green\">1 rows affected.</span>"
            ]
          },
          "metadata": {}
        },
        {
          "output_type": "display_data",
          "data": {
            "text/plain": [
              "1 rows affected."
            ],
            "text/html": [
              "<span style=\"color: green\">1 rows affected.</span>"
            ]
          },
          "metadata": {}
        },
        {
          "output_type": "display_data",
          "data": {
            "text/plain": [
              "1 rows affected."
            ],
            "text/html": [
              "<span style=\"color: green\">1 rows affected.</span>"
            ]
          },
          "metadata": {}
        },
        {
          "output_type": "display_data",
          "data": {
            "text/plain": [
              "1 rows affected."
            ],
            "text/html": [
              "<span style=\"color: green\">1 rows affected.</span>"
            ]
          },
          "metadata": {}
        },
        {
          "output_type": "display_data",
          "data": {
            "text/plain": [
              "1 rows affected."
            ],
            "text/html": [
              "<span style=\"color: green\">1 rows affected.</span>"
            ]
          },
          "metadata": {}
        },
        {
          "output_type": "display_data",
          "data": {
            "text/plain": [
              "1 rows affected."
            ],
            "text/html": [
              "<span style=\"color: green\">1 rows affected.</span>"
            ]
          },
          "metadata": {}
        },
        {
          "output_type": "display_data",
          "data": {
            "text/plain": [
              "1 rows affected."
            ],
            "text/html": [
              "<span style=\"color: green\">1 rows affected.</span>"
            ]
          },
          "metadata": {}
        },
        {
          "output_type": "display_data",
          "data": {
            "text/plain": [
              "1 rows affected."
            ],
            "text/html": [
              "<span style=\"color: green\">1 rows affected.</span>"
            ]
          },
          "metadata": {}
        },
        {
          "output_type": "display_data",
          "data": {
            "text/plain": [
              "1 rows affected."
            ],
            "text/html": [
              "<span style=\"color: green\">1 rows affected.</span>"
            ]
          },
          "metadata": {}
        },
        {
          "output_type": "display_data",
          "data": {
            "text/plain": [
              "1 rows affected."
            ],
            "text/html": [
              "<span style=\"color: green\">1 rows affected.</span>"
            ]
          },
          "metadata": {}
        },
        {
          "output_type": "display_data",
          "data": {
            "text/plain": [
              "1 rows affected."
            ],
            "text/html": [
              "<span style=\"color: green\">1 rows affected.</span>"
            ]
          },
          "metadata": {}
        },
        {
          "output_type": "display_data",
          "data": {
            "text/plain": [
              "1 rows affected."
            ],
            "text/html": [
              "<span style=\"color: green\">1 rows affected.</span>"
            ]
          },
          "metadata": {}
        },
        {
          "output_type": "display_data",
          "data": {
            "text/plain": [
              "1 rows affected."
            ],
            "text/html": [
              "<span style=\"color: green\">1 rows affected.</span>"
            ]
          },
          "metadata": {}
        },
        {
          "output_type": "display_data",
          "data": {
            "text/plain": [
              "1 rows affected."
            ],
            "text/html": [
              "<span style=\"color: green\">1 rows affected.</span>"
            ]
          },
          "metadata": {}
        },
        {
          "output_type": "display_data",
          "data": {
            "text/plain": [
              "1 rows affected."
            ],
            "text/html": [
              "<span style=\"color: green\">1 rows affected.</span>"
            ]
          },
          "metadata": {}
        },
        {
          "output_type": "display_data",
          "data": {
            "text/plain": [
              "1 rows affected."
            ],
            "text/html": [
              "<span style=\"color: green\">1 rows affected.</span>"
            ]
          },
          "metadata": {}
        },
        {
          "output_type": "display_data",
          "data": {
            "text/plain": [
              "1 rows affected."
            ],
            "text/html": [
              "<span style=\"color: green\">1 rows affected.</span>"
            ]
          },
          "metadata": {}
        },
        {
          "output_type": "display_data",
          "data": {
            "text/plain": [
              "1 rows affected."
            ],
            "text/html": [
              "<span style=\"color: green\">1 rows affected.</span>"
            ]
          },
          "metadata": {}
        },
        {
          "output_type": "display_data",
          "data": {
            "text/plain": [
              "1 rows affected."
            ],
            "text/html": [
              "<span style=\"color: green\">1 rows affected.</span>"
            ]
          },
          "metadata": {}
        },
        {
          "output_type": "display_data",
          "data": {
            "text/plain": [
              "1 rows affected."
            ],
            "text/html": [
              "<span style=\"color: green\">1 rows affected.</span>"
            ]
          },
          "metadata": {}
        },
        {
          "output_type": "display_data",
          "data": {
            "text/plain": [
              "1 rows affected."
            ],
            "text/html": [
              "<span style=\"color: green\">1 rows affected.</span>"
            ]
          },
          "metadata": {}
        },
        {
          "output_type": "display_data",
          "data": {
            "text/plain": [
              "1 rows affected."
            ],
            "text/html": [
              "<span style=\"color: green\">1 rows affected.</span>"
            ]
          },
          "metadata": {}
        },
        {
          "output_type": "display_data",
          "data": {
            "text/plain": [
              "1 rows affected."
            ],
            "text/html": [
              "<span style=\"color: green\">1 rows affected.</span>"
            ]
          },
          "metadata": {}
        },
        {
          "output_type": "display_data",
          "data": {
            "text/plain": [
              "1 rows affected."
            ],
            "text/html": [
              "<span style=\"color: green\">1 rows affected.</span>"
            ]
          },
          "metadata": {}
        },
        {
          "output_type": "display_data",
          "data": {
            "text/plain": [
              "1 rows affected."
            ],
            "text/html": [
              "<span style=\"color: green\">1 rows affected.</span>"
            ]
          },
          "metadata": {}
        },
        {
          "output_type": "display_data",
          "data": {
            "text/plain": [
              "1 rows affected."
            ],
            "text/html": [
              "<span style=\"color: green\">1 rows affected.</span>"
            ]
          },
          "metadata": {}
        },
        {
          "output_type": "display_data",
          "data": {
            "text/plain": [
              "1 rows affected."
            ],
            "text/html": [
              "<span style=\"color: green\">1 rows affected.</span>"
            ]
          },
          "metadata": {}
        },
        {
          "output_type": "display_data",
          "data": {
            "text/plain": [
              "1 rows affected."
            ],
            "text/html": [
              "<span style=\"color: green\">1 rows affected.</span>"
            ]
          },
          "metadata": {}
        },
        {
          "output_type": "display_data",
          "data": {
            "text/plain": [
              "1 rows affected."
            ],
            "text/html": [
              "<span style=\"color: green\">1 rows affected.</span>"
            ]
          },
          "metadata": {}
        },
        {
          "output_type": "execute_result",
          "data": {
            "text/plain": [
              "++\n",
              "||\n",
              "++\n",
              "++"
            ],
            "text/html": [
              "<table>\n",
              "    <thead>\n",
              "        <tr>\n",
              "        </tr>\n",
              "    </thead>\n",
              "    <tbody>\n",
              "    </tbody>\n",
              "</table>"
            ]
          },
          "metadata": {},
          "execution_count": 6
        }
      ]
    },
    {
      "cell_type": "code",
      "source": [
        "%%sql sqlite://\n",
        "CREATE TABLE orders (order_id, customer_id, order_status, order_date);\n",
        "INSERT INTO orders VALUES (2001, 1001, 'Shipped', '2024-11-11');\n",
        "INSERT INTO orders VALUES (2002, 1002, 'Pending', '2024-11-12');\n",
        "INSERT INTO orders VALUES (2003, 1003, 'Delivered', '2024-11-13');\n",
        "INSERT INTO orders VALUES (2004, 1004, 'Cancelled', '2024-11-14');\n",
        "INSERT INTO orders VALUES (2005, 1005, 'Pending', '2024-11-15');\n",
        "INSERT INTO orders VALUES (2006, 1006, 'Shipped', '2024-11-16');\n",
        "INSERT INTO orders VALUES (2007, 1007, 'Delivered', '2024-11-17');\n",
        "INSERT INTO orders VALUES (2008, 1008, 'Pending', '2024-11-18');\n",
        "INSERT INTO orders VALUES (2009, 1009, 'Shipped', '2024-11-19');\n",
        "INSERT INTO orders VALUES (2010, 1010, 'Delivered', '2024-11-20');\n",
        "INSERT INTO orders VALUES (2011, 1011, 'Pending', '2024-11-21');\n",
        "INSERT INTO orders VALUES (2012, 1012, 'Shipped', '2024-11-22');\n",
        "INSERT INTO orders VALUES (2013, 1013, 'Delivered', '2024-11-23');\n",
        "INSERT INTO orders VALUES (2014, 1014, 'Cancelled', '2024-11-24');\n",
        "INSERT INTO orders VALUES (2015, 1015, 'Pending', '2024-11-25');\n",
        "INSERT INTO orders VALUES (2016, 1016, 'Shipped', '2024-11-11');\n",
        "INSERT INTO orders VALUES (2017, 1017, 'Delivered', '2024-11-12');\n",
        "INSERT INTO orders VALUES (2018, 1018, 'Pending', '2024-11-13');\n",
        "INSERT INTO orders VALUES (2019, 1019, 'Shipped', '2024-11-14');\n",
        "INSERT INTO orders VALUES (2020, 1020, 'Delivered', '2024-11-15');\n",
        "INSERT INTO orders VALUES (2021, 1021, 'Cancelled', '2024-11-16');\n",
        "INSERT INTO orders VALUES (2022, 1022, 'Pending', '2024-11-17');\n",
        "INSERT INTO orders VALUES (2023, 1023, 'Shipped', '2024-11-18');\n",
        "INSERT INTO orders VALUES (2024, 1024, 'Delivered', '2024-11-19');\n",
        "INSERT INTO orders VALUES (2025, 1025, 'Pending', '2024-11-20');\n",
        "INSERT INTO orders VALUES (2026, 1026, 'Shipped', '2024-11-21');\n",
        "INSERT INTO orders VALUES (2027, 1027, 'Delivered', '2024-11-22');\n",
        "INSERT INTO orders VALUES (2028, 1028, 'Pending', '2024-11-23');\n",
        "INSERT INTO orders VALUES (2029, 1029, 'Shipped', '2024-11-24');\n",
        "INSERT INTO orders VALUES (2030, 1030, 'Delivered', '2024-11-25');\n",
        "INSERT INTO orders VALUES (2031, 1031, 'Pending', '2024-11-11');\n",
        "INSERT INTO orders VALUES (2032, 1032, 'Shipped', '2024-11-12');\n",
        "INSERT INTO orders VALUES (2033, 1033, 'Delivered', '2024-11-13');\n",
        "INSERT INTO orders VALUES (2034, 1034, 'Pending', '2024-11-14');\n",
        "INSERT INTO orders VALUES (2035, 1035, 'Shipped', '2024-11-15');\n",
        "INSERT INTO orders VALUES (2036, 1036, 'Delivered', '2024-11-16');\n",
        "INSERT INTO orders VALUES (2037, 1037, 'Pending', '2024-11-17');\n",
        "INSERT INTO orders VALUES (2038, 1038, 'Shipped', '2024-11-18');\n",
        "INSERT INTO orders VALUES (2039, 1039, 'Delivered', '2024-11-19');\n",
        "INSERT INTO orders VALUES (2040, 1040, 'Pending', '2024-11-20');\n",
        "INSERT INTO orders VALUES (2041, 1041, 'Shipped', '2024-11-21');\n",
        "INSERT INTO orders VALUES (2042, 1042, 'Delivered', '2024-11-22');\n",
        "INSERT INTO orders VALUES (2043, 1043, 'Pending', '2024-11-23');\n",
        "INSERT INTO orders VALUES (2044, 1044, 'Shipped', '2024-11-24');\n",
        "INSERT INTO orders VALUES (2045, 1045, 'Delivered', '2024-11-25');\n",
        "INSERT INTO orders VALUES (2046, 1046, 'Pending', '2024-11-11');\n",
        "INSERT INTO orders VALUES (2047, 1047, 'Shipped', '2024-11-12');\n",
        "INSERT INTO orders VALUES (2048, 1048, 'Delivered', '2024-11-13');\n",
        "INSERT INTO orders VALUES (2049, 1049, 'Pending', '2024-11-14');\n",
        "INSERT INTO orders VALUES (2050, 1050, 'Shipped', '2024-11-15');\n",
        "INSERT INTO orders VALUES (2051, 1001, 'Delivered', '2024-11-16');\n",
        "INSERT INTO orders VALUES (2052, 1002, 'Pending', '2024-11-17');\n",
        "INSERT INTO orders VALUES (2053, 1003, 'Shipped', '2024-11-18');\n",
        "INSERT INTO orders VALUES (2054, 1004, 'Delivered', '2024-11-19');\n",
        "INSERT INTO orders VALUES (2055, 1005, 'Pending', '2024-11-20');\n",
        "INSERT INTO orders VALUES (2056, 1006, 'Shipped', '2024-11-21');\n",
        "INSERT INTO orders VALUES (2057, 1007, 'Delivered', '2024-11-22');\n",
        "INSERT INTO orders VALUES (2058, 1008, 'Pending', '2024-11-23');\n",
        "INSERT INTO orders VALUES (2059, 1009, 'Shipped', '2024-11-24');\n",
        "INSERT INTO orders VALUES (2060, 1010, 'Delivered', '2024-11-25');"
      ],
      "metadata": {
        "colab": {
          "base_uri": "https://localhost:8080/",
          "height": 1000
        },
        "collapsed": true,
        "id": "U_ptZD0Pio5B",
        "outputId": "df50ce27-95c2-4e3d-bcb5-4d5bfee0c7dc"
      },
      "execution_count": 7,
      "outputs": [
        {
          "output_type": "display_data",
          "data": {
            "text/plain": [
              "1 rows affected."
            ],
            "text/html": [
              "<span style=\"color: green\">1 rows affected.</span>"
            ]
          },
          "metadata": {}
        },
        {
          "output_type": "display_data",
          "data": {
            "text/plain": [
              "1 rows affected."
            ],
            "text/html": [
              "<span style=\"color: green\">1 rows affected.</span>"
            ]
          },
          "metadata": {}
        },
        {
          "output_type": "display_data",
          "data": {
            "text/plain": [
              "1 rows affected."
            ],
            "text/html": [
              "<span style=\"color: green\">1 rows affected.</span>"
            ]
          },
          "metadata": {}
        },
        {
          "output_type": "display_data",
          "data": {
            "text/plain": [
              "1 rows affected."
            ],
            "text/html": [
              "<span style=\"color: green\">1 rows affected.</span>"
            ]
          },
          "metadata": {}
        },
        {
          "output_type": "display_data",
          "data": {
            "text/plain": [
              "1 rows affected."
            ],
            "text/html": [
              "<span style=\"color: green\">1 rows affected.</span>"
            ]
          },
          "metadata": {}
        },
        {
          "output_type": "display_data",
          "data": {
            "text/plain": [
              "1 rows affected."
            ],
            "text/html": [
              "<span style=\"color: green\">1 rows affected.</span>"
            ]
          },
          "metadata": {}
        },
        {
          "output_type": "display_data",
          "data": {
            "text/plain": [
              "1 rows affected."
            ],
            "text/html": [
              "<span style=\"color: green\">1 rows affected.</span>"
            ]
          },
          "metadata": {}
        },
        {
          "output_type": "display_data",
          "data": {
            "text/plain": [
              "1 rows affected."
            ],
            "text/html": [
              "<span style=\"color: green\">1 rows affected.</span>"
            ]
          },
          "metadata": {}
        },
        {
          "output_type": "display_data",
          "data": {
            "text/plain": [
              "1 rows affected."
            ],
            "text/html": [
              "<span style=\"color: green\">1 rows affected.</span>"
            ]
          },
          "metadata": {}
        },
        {
          "output_type": "display_data",
          "data": {
            "text/plain": [
              "1 rows affected."
            ],
            "text/html": [
              "<span style=\"color: green\">1 rows affected.</span>"
            ]
          },
          "metadata": {}
        },
        {
          "output_type": "display_data",
          "data": {
            "text/plain": [
              "1 rows affected."
            ],
            "text/html": [
              "<span style=\"color: green\">1 rows affected.</span>"
            ]
          },
          "metadata": {}
        },
        {
          "output_type": "display_data",
          "data": {
            "text/plain": [
              "1 rows affected."
            ],
            "text/html": [
              "<span style=\"color: green\">1 rows affected.</span>"
            ]
          },
          "metadata": {}
        },
        {
          "output_type": "display_data",
          "data": {
            "text/plain": [
              "1 rows affected."
            ],
            "text/html": [
              "<span style=\"color: green\">1 rows affected.</span>"
            ]
          },
          "metadata": {}
        },
        {
          "output_type": "display_data",
          "data": {
            "text/plain": [
              "1 rows affected."
            ],
            "text/html": [
              "<span style=\"color: green\">1 rows affected.</span>"
            ]
          },
          "metadata": {}
        },
        {
          "output_type": "display_data",
          "data": {
            "text/plain": [
              "1 rows affected."
            ],
            "text/html": [
              "<span style=\"color: green\">1 rows affected.</span>"
            ]
          },
          "metadata": {}
        },
        {
          "output_type": "display_data",
          "data": {
            "text/plain": [
              "1 rows affected."
            ],
            "text/html": [
              "<span style=\"color: green\">1 rows affected.</span>"
            ]
          },
          "metadata": {}
        },
        {
          "output_type": "display_data",
          "data": {
            "text/plain": [
              "1 rows affected."
            ],
            "text/html": [
              "<span style=\"color: green\">1 rows affected.</span>"
            ]
          },
          "metadata": {}
        },
        {
          "output_type": "display_data",
          "data": {
            "text/plain": [
              "1 rows affected."
            ],
            "text/html": [
              "<span style=\"color: green\">1 rows affected.</span>"
            ]
          },
          "metadata": {}
        },
        {
          "output_type": "display_data",
          "data": {
            "text/plain": [
              "1 rows affected."
            ],
            "text/html": [
              "<span style=\"color: green\">1 rows affected.</span>"
            ]
          },
          "metadata": {}
        },
        {
          "output_type": "display_data",
          "data": {
            "text/plain": [
              "1 rows affected."
            ],
            "text/html": [
              "<span style=\"color: green\">1 rows affected.</span>"
            ]
          },
          "metadata": {}
        },
        {
          "output_type": "display_data",
          "data": {
            "text/plain": [
              "1 rows affected."
            ],
            "text/html": [
              "<span style=\"color: green\">1 rows affected.</span>"
            ]
          },
          "metadata": {}
        },
        {
          "output_type": "display_data",
          "data": {
            "text/plain": [
              "1 rows affected."
            ],
            "text/html": [
              "<span style=\"color: green\">1 rows affected.</span>"
            ]
          },
          "metadata": {}
        },
        {
          "output_type": "display_data",
          "data": {
            "text/plain": [
              "1 rows affected."
            ],
            "text/html": [
              "<span style=\"color: green\">1 rows affected.</span>"
            ]
          },
          "metadata": {}
        },
        {
          "output_type": "display_data",
          "data": {
            "text/plain": [
              "1 rows affected."
            ],
            "text/html": [
              "<span style=\"color: green\">1 rows affected.</span>"
            ]
          },
          "metadata": {}
        },
        {
          "output_type": "display_data",
          "data": {
            "text/plain": [
              "1 rows affected."
            ],
            "text/html": [
              "<span style=\"color: green\">1 rows affected.</span>"
            ]
          },
          "metadata": {}
        },
        {
          "output_type": "display_data",
          "data": {
            "text/plain": [
              "1 rows affected."
            ],
            "text/html": [
              "<span style=\"color: green\">1 rows affected.</span>"
            ]
          },
          "metadata": {}
        },
        {
          "output_type": "display_data",
          "data": {
            "text/plain": [
              "1 rows affected."
            ],
            "text/html": [
              "<span style=\"color: green\">1 rows affected.</span>"
            ]
          },
          "metadata": {}
        },
        {
          "output_type": "display_data",
          "data": {
            "text/plain": [
              "1 rows affected."
            ],
            "text/html": [
              "<span style=\"color: green\">1 rows affected.</span>"
            ]
          },
          "metadata": {}
        },
        {
          "output_type": "display_data",
          "data": {
            "text/plain": [
              "1 rows affected."
            ],
            "text/html": [
              "<span style=\"color: green\">1 rows affected.</span>"
            ]
          },
          "metadata": {}
        },
        {
          "output_type": "display_data",
          "data": {
            "text/plain": [
              "1 rows affected."
            ],
            "text/html": [
              "<span style=\"color: green\">1 rows affected.</span>"
            ]
          },
          "metadata": {}
        },
        {
          "output_type": "display_data",
          "data": {
            "text/plain": [
              "1 rows affected."
            ],
            "text/html": [
              "<span style=\"color: green\">1 rows affected.</span>"
            ]
          },
          "metadata": {}
        },
        {
          "output_type": "display_data",
          "data": {
            "text/plain": [
              "1 rows affected."
            ],
            "text/html": [
              "<span style=\"color: green\">1 rows affected.</span>"
            ]
          },
          "metadata": {}
        },
        {
          "output_type": "display_data",
          "data": {
            "text/plain": [
              "1 rows affected."
            ],
            "text/html": [
              "<span style=\"color: green\">1 rows affected.</span>"
            ]
          },
          "metadata": {}
        },
        {
          "output_type": "display_data",
          "data": {
            "text/plain": [
              "1 rows affected."
            ],
            "text/html": [
              "<span style=\"color: green\">1 rows affected.</span>"
            ]
          },
          "metadata": {}
        },
        {
          "output_type": "display_data",
          "data": {
            "text/plain": [
              "1 rows affected."
            ],
            "text/html": [
              "<span style=\"color: green\">1 rows affected.</span>"
            ]
          },
          "metadata": {}
        },
        {
          "output_type": "display_data",
          "data": {
            "text/plain": [
              "1 rows affected."
            ],
            "text/html": [
              "<span style=\"color: green\">1 rows affected.</span>"
            ]
          },
          "metadata": {}
        },
        {
          "output_type": "display_data",
          "data": {
            "text/plain": [
              "1 rows affected."
            ],
            "text/html": [
              "<span style=\"color: green\">1 rows affected.</span>"
            ]
          },
          "metadata": {}
        },
        {
          "output_type": "display_data",
          "data": {
            "text/plain": [
              "1 rows affected."
            ],
            "text/html": [
              "<span style=\"color: green\">1 rows affected.</span>"
            ]
          },
          "metadata": {}
        },
        {
          "output_type": "display_data",
          "data": {
            "text/plain": [
              "1 rows affected."
            ],
            "text/html": [
              "<span style=\"color: green\">1 rows affected.</span>"
            ]
          },
          "metadata": {}
        },
        {
          "output_type": "display_data",
          "data": {
            "text/plain": [
              "1 rows affected."
            ],
            "text/html": [
              "<span style=\"color: green\">1 rows affected.</span>"
            ]
          },
          "metadata": {}
        },
        {
          "output_type": "display_data",
          "data": {
            "text/plain": [
              "1 rows affected."
            ],
            "text/html": [
              "<span style=\"color: green\">1 rows affected.</span>"
            ]
          },
          "metadata": {}
        },
        {
          "output_type": "display_data",
          "data": {
            "text/plain": [
              "1 rows affected."
            ],
            "text/html": [
              "<span style=\"color: green\">1 rows affected.</span>"
            ]
          },
          "metadata": {}
        },
        {
          "output_type": "display_data",
          "data": {
            "text/plain": [
              "1 rows affected."
            ],
            "text/html": [
              "<span style=\"color: green\">1 rows affected.</span>"
            ]
          },
          "metadata": {}
        },
        {
          "output_type": "display_data",
          "data": {
            "text/plain": [
              "1 rows affected."
            ],
            "text/html": [
              "<span style=\"color: green\">1 rows affected.</span>"
            ]
          },
          "metadata": {}
        },
        {
          "output_type": "display_data",
          "data": {
            "text/plain": [
              "1 rows affected."
            ],
            "text/html": [
              "<span style=\"color: green\">1 rows affected.</span>"
            ]
          },
          "metadata": {}
        },
        {
          "output_type": "display_data",
          "data": {
            "text/plain": [
              "1 rows affected."
            ],
            "text/html": [
              "<span style=\"color: green\">1 rows affected.</span>"
            ]
          },
          "metadata": {}
        },
        {
          "output_type": "display_data",
          "data": {
            "text/plain": [
              "1 rows affected."
            ],
            "text/html": [
              "<span style=\"color: green\">1 rows affected.</span>"
            ]
          },
          "metadata": {}
        },
        {
          "output_type": "display_data",
          "data": {
            "text/plain": [
              "1 rows affected."
            ],
            "text/html": [
              "<span style=\"color: green\">1 rows affected.</span>"
            ]
          },
          "metadata": {}
        },
        {
          "output_type": "display_data",
          "data": {
            "text/plain": [
              "1 rows affected."
            ],
            "text/html": [
              "<span style=\"color: green\">1 rows affected.</span>"
            ]
          },
          "metadata": {}
        },
        {
          "output_type": "display_data",
          "data": {
            "text/plain": [
              "1 rows affected."
            ],
            "text/html": [
              "<span style=\"color: green\">1 rows affected.</span>"
            ]
          },
          "metadata": {}
        },
        {
          "output_type": "display_data",
          "data": {
            "text/plain": [
              "1 rows affected."
            ],
            "text/html": [
              "<span style=\"color: green\">1 rows affected.</span>"
            ]
          },
          "metadata": {}
        },
        {
          "output_type": "display_data",
          "data": {
            "text/plain": [
              "1 rows affected."
            ],
            "text/html": [
              "<span style=\"color: green\">1 rows affected.</span>"
            ]
          },
          "metadata": {}
        },
        {
          "output_type": "display_data",
          "data": {
            "text/plain": [
              "1 rows affected."
            ],
            "text/html": [
              "<span style=\"color: green\">1 rows affected.</span>"
            ]
          },
          "metadata": {}
        },
        {
          "output_type": "display_data",
          "data": {
            "text/plain": [
              "1 rows affected."
            ],
            "text/html": [
              "<span style=\"color: green\">1 rows affected.</span>"
            ]
          },
          "metadata": {}
        },
        {
          "output_type": "display_data",
          "data": {
            "text/plain": [
              "1 rows affected."
            ],
            "text/html": [
              "<span style=\"color: green\">1 rows affected.</span>"
            ]
          },
          "metadata": {}
        },
        {
          "output_type": "display_data",
          "data": {
            "text/plain": [
              "1 rows affected."
            ],
            "text/html": [
              "<span style=\"color: green\">1 rows affected.</span>"
            ]
          },
          "metadata": {}
        },
        {
          "output_type": "display_data",
          "data": {
            "text/plain": [
              "1 rows affected."
            ],
            "text/html": [
              "<span style=\"color: green\">1 rows affected.</span>"
            ]
          },
          "metadata": {}
        },
        {
          "output_type": "display_data",
          "data": {
            "text/plain": [
              "1 rows affected."
            ],
            "text/html": [
              "<span style=\"color: green\">1 rows affected.</span>"
            ]
          },
          "metadata": {}
        },
        {
          "output_type": "display_data",
          "data": {
            "text/plain": [
              "1 rows affected."
            ],
            "text/html": [
              "<span style=\"color: green\">1 rows affected.</span>"
            ]
          },
          "metadata": {}
        },
        {
          "output_type": "display_data",
          "data": {
            "text/plain": [
              "1 rows affected."
            ],
            "text/html": [
              "<span style=\"color: green\">1 rows affected.</span>"
            ]
          },
          "metadata": {}
        },
        {
          "output_type": "execute_result",
          "data": {
            "text/plain": [
              "++\n",
              "||\n",
              "++\n",
              "++"
            ],
            "text/html": [
              "<table>\n",
              "    <thead>\n",
              "        <tr>\n",
              "        </tr>\n",
              "    </thead>\n",
              "    <tbody>\n",
              "    </tbody>\n",
              "</table>"
            ]
          },
          "metadata": {},
          "execution_count": 7
        }
      ]
    },
    {
      "cell_type": "code",
      "source": [
        "%%sql sqlite://\n",
        "CREATE TABLE order_items (order_id, item_id, item_name, quantity, list_price);\n",
        "INSERT INTO order_items VALUES (2001, 3001, 'Insignia Tee', 2, 77);\n",
        "INSERT INTO order_items VALUES (2001, 3003, 'Insignia Hoodie', 1, 142);\n",
        "INSERT INTO order_items VALUES (2002, 3002, 'Insignia Crewneck', 1, 129);\n",
        "INSERT INTO order_items VALUES (2002, 3005, 'L/S Compression Top', 3, 104);\n",
        "INSERT INTO order_items VALUES (2003, 3004, 'Insignia Sweatpants', 2, 129);\n",
        "INSERT INTO order_items VALUES (2003, 3007, 'Half Tights', 1, 85);\n",
        "INSERT INTO order_items VALUES (2004, 3006, 'Running Vest', 1, 98);\n",
        "INSERT INTO order_items VALUES (2004, 3001, 'Insignia Tee', 4, 77);\n",
        "INSERT INTO order_items VALUES (2005, 3002, 'Insignia Crewneck', 1, 129);\n",
        "INSERT INTO order_items VALUES (2005, 3003, 'Insignia Hoodie', 2, 142);\n",
        "INSERT INTO order_items VALUES (2006, 3005, 'L/S Compression Top', 1, 104);\n",
        "INSERT INTO order_items VALUES (2006, 3007, 'Half Tights', 2, 85);\n",
        "INSERT INTO order_items VALUES (2007, 3004, 'Insignia Sweatpants', 1, 129);\n",
        "INSERT INTO order_items VALUES (2007, 3006, 'Running Vest', 3, 98);\n",
        "INSERT INTO order_items VALUES (2008, 3001, 'Insignia Tee', 2, 77);\n",
        "INSERT INTO order_items VALUES (2008, 3002, 'Insignia Crewneck', 1, 129);\n",
        "INSERT INTO order_items VALUES (2009, 3003, 'Insignia Hoodie', 2, 142);\n",
        "INSERT INTO order_items VALUES (2009, 3005, 'L/S Compression Top', 1, 104);\n",
        "INSERT INTO order_items VALUES (2010, 3004, 'Insignia Sweatpants', 3, 129);\n",
        "INSERT INTO order_items VALUES (2010, 3007, 'Half Tights', 1, 85);\n",
        "INSERT INTO order_items VALUES (2011, 3006, 'Running Vest', 1, 98);\n",
        "INSERT INTO order_items VALUES (2011, 3002, 'Insignia Crewneck', 4, 129);\n",
        "INSERT INTO order_items VALUES (2012, 3001, 'Insignia Tee', 1, 77);\n",
        "INSERT INTO order_items VALUES (2012, 3004, 'Insignia Sweatpants', 2, 129);\n",
        "INSERT INTO order_items VALUES (2013, 3003, 'Insignia Hoodie', 1, 142);\n",
        "INSERT INTO order_items VALUES (2013, 3006, 'Running Vest', 2, 98);\n",
        "INSERT INTO order_items VALUES (2014, 3007, 'Half Tights', 1, 85);\n",
        "INSERT INTO order_items VALUES (2014, 3005, 'L/S Compression Top', 3, 104);\n",
        "INSERT INTO order_items VALUES (2015, 3002, 'Insignia Crewneck', 2, 129);\n",
        "INSERT INTO order_items VALUES (2015, 3004, 'Insignia Sweatpants', 1, 129);\n",
        "INSERT INTO order_items VALUES (2016, 3001, 'Insignia Tee', 3, 77);\n",
        "INSERT INTO order_items VALUES (2016, 3003, 'Insignia Hoodie', 1, 142);\n",
        "INSERT INTO order_items VALUES (2017, 3005, 'L/S Compression Top', 2, 104);\n",
        "INSERT INTO order_items VALUES (2017, 3007, 'Half Tights', 1, 85);\n",
        "INSERT INTO order_items VALUES (2018, 3006, 'Running Vest', 1, 98);\n",
        "INSERT INTO order_items VALUES (2018, 3002, 'Insignia Crewneck', 4, 129);\n",
        "INSERT INTO order_items VALUES (2019, 3004, 'Insignia Sweatpants', 2, 129);\n",
        "INSERT INTO order_items VALUES (2019, 3001, 'Insignia Tee', 1, 77);\n",
        "INSERT INTO order_items VALUES (2020, 3003, 'Insignia Hoodie', 1, 142);\n",
        "INSERT INTO order_items VALUES (2020, 3005, 'L/S Compression Top', 3, 104);\n",
        "INSERT INTO order_items VALUES (2021, 3007, 'Half Tights', 1, 85);\n",
        "INSERT INTO order_items VALUES (2021, 3006, 'Running Vest', 2, 98);\n",
        "INSERT INTO order_items VALUES (2022, 3002, 'Insignia Crewneck', 1, 129);\n",
        "INSERT INTO order_items VALUES (2022, 3004, 'Insignia Sweatpants', 3, 129);\n",
        "INSERT INTO order_items VALUES (2023, 3001, 'Insignia Tee', 2, 77);\n",
        "INSERT INTO order_items VALUES (2023, 3003, 'Insignia Hoodie', 1, 142);\n",
        "INSERT INTO order_items VALUES (2024, 3005, 'L/S Compression Top', 1, 104);\n",
        "INSERT INTO order_items VALUES (2024, 3007, 'Half Tights', 2, 85);\n",
        "INSERT INTO order_items VALUES (2025, 3006, 'Running Vest', 3, 98);\n",
        "INSERT INTO order_items VALUES (2025, 3002, 'Insignia Crewneck', 1, 129);\n",
        "INSERT INTO order_items VALUES (2026, 3004, 'Insignia Sweatpants', 2, 129);\n",
        "INSERT INTO order_items VALUES (2026, 3001, 'Insignia Tee', 1, 77);\n",
        "INSERT INTO order_items VALUES (2027, 3003, 'Insignia Hoodie', 3, 142);\n",
        "INSERT INTO order_items VALUES (2027, 3005, 'L/S Compression Top', 1, 104);\n",
        "INSERT INTO order_items VALUES (2028, 3007, 'Half Tights', 1, 85);\n",
        "INSERT INTO order_items VALUES (2028, 3006, 'Running Vest', 2, 98);\n",
        "INSERT INTO order_items VALUES (2029, 3002, 'Insignia Crewneck', 1, 129);\n",
        "INSERT INTO order_items VALUES (2029, 3004, 'Insignia Sweatpants', 3, 129);\n",
        "INSERT INTO order_items VALUES (2030, 3001, 'Insignia Tee', 2, 77);\n",
        "INSERT INTO order_items VALUES (2030, 3003, 'Insignia Hoodie', 1, 142);\n",
        "INSERT INTO order_items VALUES (2031, 3005, 'L/S Compression Top', 1, 104);\n",
        "INSERT INTO order_items VALUES (2031, 3006, 'Running Vest', 2, 98);\n",
        "INSERT INTO order_items VALUES (2032, 3007, 'Half Tights', 3, 85);\n",
        "INSERT INTO order_items VALUES (2032, 3002, 'Insignia Crewneck', 1, 129);\n",
        "INSERT INTO order_items VALUES (2033, 3004, 'Insignia Sweatpants', 2, 129);\n",
        "INSERT INTO order_items VALUES (2033, 3001, 'Insignia Tee', 1, 77);\n",
        "INSERT INTO order_items VALUES (2034, 3003, 'Insignia Hoodie', 2, 142);\n",
        "INSERT INTO order_items VALUES (2034, 3005, 'L/S Compression Top', 1, 104);\n",
        "INSERT INTO order_items VALUES (2035, 3007, 'Half Tights', 3, 85);\n",
        "INSERT INTO order_items VALUES (2035, 3006, 'Running Vest', 1, 98);\n",
        "INSERT INTO order_items VALUES (2036, 3002, 'Insignia Crewneck', 4, 129);\n",
        "INSERT INTO order_items VALUES (2036, 3004, 'Insignia Sweatpants', 2, 129);\n",
        "INSERT INTO order_items VALUES (2037, 3001, 'Insignia Tee', 1, 77);\n",
        "INSERT INTO order_items VALUES (2037, 3003, 'Insignia Hoodie', 2, 142);\n",
        "INSERT INTO order_items VALUES (2038, 3005, 'L/S Compression Top', 1, 104);\n",
        "INSERT INTO order_items VALUES (2038, 3007, 'Half Tights', 3, 85);\n",
        "INSERT INTO order_items VALUES (2039, 3006, 'Running Vest', 2, 98);\n",
        "INSERT INTO order_items VALUES (2039, 3002, 'Insignia Crewneck', 1, 129);\n",
        "INSERT INTO order_items VALUES (2040, 3004, 'Insignia Sweatpants', 3, 129);\n",
        "INSERT INTO order_items VALUES (2040, 3001, 'Insignia Tee', 1, 77);\n",
        "INSERT INTO order_items VALUES (2041, 3003, 'Insignia Hoodie', 1, 142);\n",
        "INSERT INTO order_items VALUES (2041, 3005, 'L/S Compression Top', 2, 104);\n",
        "INSERT INTO order_items VALUES (2042, 3007, 'Half Tights', 3, 85);\n",
        "INSERT INTO order_items VALUES (2042, 3006, 'Running Vest', 1, 98);\n",
        "INSERT INTO order_items VALUES (2043, 3002, 'Insignia Crewneck', 4, 129);\n",
        "INSERT INTO order_items VALUES (2043, 3004, 'Insignia Sweatpants', 2, 129);\n",
        "INSERT INTO order_items VALUES (2044, 3001, 'Insignia Tee', 1, 77);\n",
        "INSERT INTO order_items VALUES (2044, 3003, 'Insignia Hoodie', 2, 142);\n",
        "INSERT INTO order_items VALUES (2045, 3005, 'L/S Compression Top', 1, 104);\n",
        "INSERT INTO order_items VALUES (2045, 3007, 'Half Tights', 3, 85);\n",
        "INSERT INTO order_items VALUES (2046, 3006, 'Running Vest', 2, 98);\n",
        "INSERT INTO order_items VALUES (2046, 3002, 'Insignia Crewneck', 1, 129);\n",
        "INSERT INTO order_items VALUES (2047, 3004, 'Insignia Sweatpants', 3, 129);\n",
        "INSERT INTO order_items VALUES (2047, 3001, 'Insignia Tee', 1, 77);\n",
        "INSERT INTO order_items VALUES (2048, 3003, 'Insignia Hoodie', 1, 142);\n",
        "INSERT INTO order_items VALUES (2048, 3005, 'L/S Compression Top', 2, 104);\n",
        "INSERT INTO order_items VALUES (2049, 3007, 'Half Tights', 1, 85);\n",
        "INSERT INTO order_items VALUES (2049, 3006, 'Running Vest', 1, 98);\n",
        "INSERT INTO order_items VALUES (2050, 3002, 'Insignia Crewneck', 4, 129);\n",
        "INSERT INTO order_items VALUES (2050, 3004, 'Insignia Sweatpants', 2, 129);\n",
        "INSERT INTO order_items VALUES (2051, 3001, 'Insignia Tee', 1, 77);\n",
        "INSERT INTO order_items VALUES (2051, 3003, 'Insignia Hoodie', 2, 142);\n",
        "INSERT INTO order_items VALUES (2052, 3005, 'L/S Compression Top', 1, 104);\n",
        "INSERT INTO order_items VALUES (2052, 3007, 'Half Tights', 3, 85);\n",
        "INSERT INTO order_items VALUES (2053, 3006, 'Running Vest', 2, 98);\n",
        "INSERT INTO order_items VALUES (2053, 3002, 'Insignia Crewneck', 1, 129);\n",
        "INSERT INTO order_items VALUES (2054, 3004, 'Insignia Sweatpants', 3, 129);\n",
        "INSERT INTO order_items VALUES (2054, 3001, 'Insignia Tee', 1, 77);\n",
        "INSERT INTO order_items VALUES (2055, 3003, 'Insignia Hoodie', 1, 142);\n",
        "INSERT INTO order_items VALUES (2055, 3005, 'L/S Compression Top', 2, 104);\n",
        "INSERT INTO order_items VALUES (2056, 3007, 'Half Tights', 3, 85);\n",
        "INSERT INTO order_items VALUES (2056, 3006, 'Running Vest', 1, 98);\n",
        "INSERT INTO order_items VALUES (2057, 3002, 'Insignia Crewneck', 4, 129);\n",
        "INSERT INTO order_items VALUES (2057, 3004, 'Insignia Sweatpants', 2, 129);\n",
        "INSERT INTO order_items VALUES (2058, 3001, 'Insignia Tee', 1, 77);\n",
        "INSERT INTO order_items VALUES (2058, 3003, 'Insignia Hoodie', 2, 142);\n",
        "INSERT INTO order_items VALUES (2059, 3005, 'L/S Compression Top', 1, 104);\n",
        "INSERT INTO order_items VALUES (2059, 3007, 'Half Tights', 3, 85);\n",
        "INSERT INTO order_items VALUES (2060, 3006, 'Running Vest', 2, 98);\n",
        "INSERT INTO order_items VALUES (2060, 3002, 'Insignia Crewneck', 1, 129);"
      ],
      "metadata": {
        "collapsed": true,
        "id": "RkeOLEiHi7Oy",
        "colab": {
          "base_uri": "https://localhost:8080/",
          "height": 1000
        },
        "outputId": "a8adbba8-4a08-4992-dd40-ff0ea5d917bb"
      },
      "execution_count": 8,
      "outputs": [
        {
          "output_type": "display_data",
          "data": {
            "text/plain": [
              "1 rows affected."
            ],
            "text/html": [
              "<span style=\"color: green\">1 rows affected.</span>"
            ]
          },
          "metadata": {}
        },
        {
          "output_type": "display_data",
          "data": {
            "text/plain": [
              "1 rows affected."
            ],
            "text/html": [
              "<span style=\"color: green\">1 rows affected.</span>"
            ]
          },
          "metadata": {}
        },
        {
          "output_type": "display_data",
          "data": {
            "text/plain": [
              "1 rows affected."
            ],
            "text/html": [
              "<span style=\"color: green\">1 rows affected.</span>"
            ]
          },
          "metadata": {}
        },
        {
          "output_type": "display_data",
          "data": {
            "text/plain": [
              "1 rows affected."
            ],
            "text/html": [
              "<span style=\"color: green\">1 rows affected.</span>"
            ]
          },
          "metadata": {}
        },
        {
          "output_type": "display_data",
          "data": {
            "text/plain": [
              "1 rows affected."
            ],
            "text/html": [
              "<span style=\"color: green\">1 rows affected.</span>"
            ]
          },
          "metadata": {}
        },
        {
          "output_type": "display_data",
          "data": {
            "text/plain": [
              "1 rows affected."
            ],
            "text/html": [
              "<span style=\"color: green\">1 rows affected.</span>"
            ]
          },
          "metadata": {}
        },
        {
          "output_type": "display_data",
          "data": {
            "text/plain": [
              "1 rows affected."
            ],
            "text/html": [
              "<span style=\"color: green\">1 rows affected.</span>"
            ]
          },
          "metadata": {}
        },
        {
          "output_type": "display_data",
          "data": {
            "text/plain": [
              "1 rows affected."
            ],
            "text/html": [
              "<span style=\"color: green\">1 rows affected.</span>"
            ]
          },
          "metadata": {}
        },
        {
          "output_type": "display_data",
          "data": {
            "text/plain": [
              "1 rows affected."
            ],
            "text/html": [
              "<span style=\"color: green\">1 rows affected.</span>"
            ]
          },
          "metadata": {}
        },
        {
          "output_type": "display_data",
          "data": {
            "text/plain": [
              "1 rows affected."
            ],
            "text/html": [
              "<span style=\"color: green\">1 rows affected.</span>"
            ]
          },
          "metadata": {}
        },
        {
          "output_type": "display_data",
          "data": {
            "text/plain": [
              "1 rows affected."
            ],
            "text/html": [
              "<span style=\"color: green\">1 rows affected.</span>"
            ]
          },
          "metadata": {}
        },
        {
          "output_type": "display_data",
          "data": {
            "text/plain": [
              "1 rows affected."
            ],
            "text/html": [
              "<span style=\"color: green\">1 rows affected.</span>"
            ]
          },
          "metadata": {}
        },
        {
          "output_type": "display_data",
          "data": {
            "text/plain": [
              "1 rows affected."
            ],
            "text/html": [
              "<span style=\"color: green\">1 rows affected.</span>"
            ]
          },
          "metadata": {}
        },
        {
          "output_type": "display_data",
          "data": {
            "text/plain": [
              "1 rows affected."
            ],
            "text/html": [
              "<span style=\"color: green\">1 rows affected.</span>"
            ]
          },
          "metadata": {}
        },
        {
          "output_type": "display_data",
          "data": {
            "text/plain": [
              "1 rows affected."
            ],
            "text/html": [
              "<span style=\"color: green\">1 rows affected.</span>"
            ]
          },
          "metadata": {}
        },
        {
          "output_type": "display_data",
          "data": {
            "text/plain": [
              "1 rows affected."
            ],
            "text/html": [
              "<span style=\"color: green\">1 rows affected.</span>"
            ]
          },
          "metadata": {}
        },
        {
          "output_type": "display_data",
          "data": {
            "text/plain": [
              "1 rows affected."
            ],
            "text/html": [
              "<span style=\"color: green\">1 rows affected.</span>"
            ]
          },
          "metadata": {}
        },
        {
          "output_type": "display_data",
          "data": {
            "text/plain": [
              "1 rows affected."
            ],
            "text/html": [
              "<span style=\"color: green\">1 rows affected.</span>"
            ]
          },
          "metadata": {}
        },
        {
          "output_type": "display_data",
          "data": {
            "text/plain": [
              "1 rows affected."
            ],
            "text/html": [
              "<span style=\"color: green\">1 rows affected.</span>"
            ]
          },
          "metadata": {}
        },
        {
          "output_type": "display_data",
          "data": {
            "text/plain": [
              "1 rows affected."
            ],
            "text/html": [
              "<span style=\"color: green\">1 rows affected.</span>"
            ]
          },
          "metadata": {}
        },
        {
          "output_type": "display_data",
          "data": {
            "text/plain": [
              "1 rows affected."
            ],
            "text/html": [
              "<span style=\"color: green\">1 rows affected.</span>"
            ]
          },
          "metadata": {}
        },
        {
          "output_type": "display_data",
          "data": {
            "text/plain": [
              "1 rows affected."
            ],
            "text/html": [
              "<span style=\"color: green\">1 rows affected.</span>"
            ]
          },
          "metadata": {}
        },
        {
          "output_type": "display_data",
          "data": {
            "text/plain": [
              "1 rows affected."
            ],
            "text/html": [
              "<span style=\"color: green\">1 rows affected.</span>"
            ]
          },
          "metadata": {}
        },
        {
          "output_type": "display_data",
          "data": {
            "text/plain": [
              "1 rows affected."
            ],
            "text/html": [
              "<span style=\"color: green\">1 rows affected.</span>"
            ]
          },
          "metadata": {}
        },
        {
          "output_type": "display_data",
          "data": {
            "text/plain": [
              "1 rows affected."
            ],
            "text/html": [
              "<span style=\"color: green\">1 rows affected.</span>"
            ]
          },
          "metadata": {}
        },
        {
          "output_type": "display_data",
          "data": {
            "text/plain": [
              "1 rows affected."
            ],
            "text/html": [
              "<span style=\"color: green\">1 rows affected.</span>"
            ]
          },
          "metadata": {}
        },
        {
          "output_type": "display_data",
          "data": {
            "text/plain": [
              "1 rows affected."
            ],
            "text/html": [
              "<span style=\"color: green\">1 rows affected.</span>"
            ]
          },
          "metadata": {}
        },
        {
          "output_type": "display_data",
          "data": {
            "text/plain": [
              "1 rows affected."
            ],
            "text/html": [
              "<span style=\"color: green\">1 rows affected.</span>"
            ]
          },
          "metadata": {}
        },
        {
          "output_type": "display_data",
          "data": {
            "text/plain": [
              "1 rows affected."
            ],
            "text/html": [
              "<span style=\"color: green\">1 rows affected.</span>"
            ]
          },
          "metadata": {}
        },
        {
          "output_type": "display_data",
          "data": {
            "text/plain": [
              "1 rows affected."
            ],
            "text/html": [
              "<span style=\"color: green\">1 rows affected.</span>"
            ]
          },
          "metadata": {}
        },
        {
          "output_type": "display_data",
          "data": {
            "text/plain": [
              "1 rows affected."
            ],
            "text/html": [
              "<span style=\"color: green\">1 rows affected.</span>"
            ]
          },
          "metadata": {}
        },
        {
          "output_type": "display_data",
          "data": {
            "text/plain": [
              "1 rows affected."
            ],
            "text/html": [
              "<span style=\"color: green\">1 rows affected.</span>"
            ]
          },
          "metadata": {}
        },
        {
          "output_type": "display_data",
          "data": {
            "text/plain": [
              "1 rows affected."
            ],
            "text/html": [
              "<span style=\"color: green\">1 rows affected.</span>"
            ]
          },
          "metadata": {}
        },
        {
          "output_type": "display_data",
          "data": {
            "text/plain": [
              "1 rows affected."
            ],
            "text/html": [
              "<span style=\"color: green\">1 rows affected.</span>"
            ]
          },
          "metadata": {}
        },
        {
          "output_type": "display_data",
          "data": {
            "text/plain": [
              "1 rows affected."
            ],
            "text/html": [
              "<span style=\"color: green\">1 rows affected.</span>"
            ]
          },
          "metadata": {}
        },
        {
          "output_type": "display_data",
          "data": {
            "text/plain": [
              "1 rows affected."
            ],
            "text/html": [
              "<span style=\"color: green\">1 rows affected.</span>"
            ]
          },
          "metadata": {}
        },
        {
          "output_type": "display_data",
          "data": {
            "text/plain": [
              "1 rows affected."
            ],
            "text/html": [
              "<span style=\"color: green\">1 rows affected.</span>"
            ]
          },
          "metadata": {}
        },
        {
          "output_type": "display_data",
          "data": {
            "text/plain": [
              "1 rows affected."
            ],
            "text/html": [
              "<span style=\"color: green\">1 rows affected.</span>"
            ]
          },
          "metadata": {}
        },
        {
          "output_type": "display_data",
          "data": {
            "text/plain": [
              "1 rows affected."
            ],
            "text/html": [
              "<span style=\"color: green\">1 rows affected.</span>"
            ]
          },
          "metadata": {}
        },
        {
          "output_type": "display_data",
          "data": {
            "text/plain": [
              "1 rows affected."
            ],
            "text/html": [
              "<span style=\"color: green\">1 rows affected.</span>"
            ]
          },
          "metadata": {}
        },
        {
          "output_type": "display_data",
          "data": {
            "text/plain": [
              "1 rows affected."
            ],
            "text/html": [
              "<span style=\"color: green\">1 rows affected.</span>"
            ]
          },
          "metadata": {}
        },
        {
          "output_type": "display_data",
          "data": {
            "text/plain": [
              "1 rows affected."
            ],
            "text/html": [
              "<span style=\"color: green\">1 rows affected.</span>"
            ]
          },
          "metadata": {}
        },
        {
          "output_type": "display_data",
          "data": {
            "text/plain": [
              "1 rows affected."
            ],
            "text/html": [
              "<span style=\"color: green\">1 rows affected.</span>"
            ]
          },
          "metadata": {}
        },
        {
          "output_type": "display_data",
          "data": {
            "text/plain": [
              "1 rows affected."
            ],
            "text/html": [
              "<span style=\"color: green\">1 rows affected.</span>"
            ]
          },
          "metadata": {}
        },
        {
          "output_type": "display_data",
          "data": {
            "text/plain": [
              "1 rows affected."
            ],
            "text/html": [
              "<span style=\"color: green\">1 rows affected.</span>"
            ]
          },
          "metadata": {}
        },
        {
          "output_type": "display_data",
          "data": {
            "text/plain": [
              "1 rows affected."
            ],
            "text/html": [
              "<span style=\"color: green\">1 rows affected.</span>"
            ]
          },
          "metadata": {}
        },
        {
          "output_type": "display_data",
          "data": {
            "text/plain": [
              "1 rows affected."
            ],
            "text/html": [
              "<span style=\"color: green\">1 rows affected.</span>"
            ]
          },
          "metadata": {}
        },
        {
          "output_type": "display_data",
          "data": {
            "text/plain": [
              "1 rows affected."
            ],
            "text/html": [
              "<span style=\"color: green\">1 rows affected.</span>"
            ]
          },
          "metadata": {}
        },
        {
          "output_type": "display_data",
          "data": {
            "text/plain": [
              "1 rows affected."
            ],
            "text/html": [
              "<span style=\"color: green\">1 rows affected.</span>"
            ]
          },
          "metadata": {}
        },
        {
          "output_type": "display_data",
          "data": {
            "text/plain": [
              "1 rows affected."
            ],
            "text/html": [
              "<span style=\"color: green\">1 rows affected.</span>"
            ]
          },
          "metadata": {}
        },
        {
          "output_type": "display_data",
          "data": {
            "text/plain": [
              "1 rows affected."
            ],
            "text/html": [
              "<span style=\"color: green\">1 rows affected.</span>"
            ]
          },
          "metadata": {}
        },
        {
          "output_type": "display_data",
          "data": {
            "text/plain": [
              "1 rows affected."
            ],
            "text/html": [
              "<span style=\"color: green\">1 rows affected.</span>"
            ]
          },
          "metadata": {}
        },
        {
          "output_type": "display_data",
          "data": {
            "text/plain": [
              "1 rows affected."
            ],
            "text/html": [
              "<span style=\"color: green\">1 rows affected.</span>"
            ]
          },
          "metadata": {}
        },
        {
          "output_type": "display_data",
          "data": {
            "text/plain": [
              "1 rows affected."
            ],
            "text/html": [
              "<span style=\"color: green\">1 rows affected.</span>"
            ]
          },
          "metadata": {}
        },
        {
          "output_type": "display_data",
          "data": {
            "text/plain": [
              "1 rows affected."
            ],
            "text/html": [
              "<span style=\"color: green\">1 rows affected.</span>"
            ]
          },
          "metadata": {}
        },
        {
          "output_type": "display_data",
          "data": {
            "text/plain": [
              "1 rows affected."
            ],
            "text/html": [
              "<span style=\"color: green\">1 rows affected.</span>"
            ]
          },
          "metadata": {}
        },
        {
          "output_type": "display_data",
          "data": {
            "text/plain": [
              "1 rows affected."
            ],
            "text/html": [
              "<span style=\"color: green\">1 rows affected.</span>"
            ]
          },
          "metadata": {}
        },
        {
          "output_type": "display_data",
          "data": {
            "text/plain": [
              "1 rows affected."
            ],
            "text/html": [
              "<span style=\"color: green\">1 rows affected.</span>"
            ]
          },
          "metadata": {}
        },
        {
          "output_type": "display_data",
          "data": {
            "text/plain": [
              "1 rows affected."
            ],
            "text/html": [
              "<span style=\"color: green\">1 rows affected.</span>"
            ]
          },
          "metadata": {}
        },
        {
          "output_type": "display_data",
          "data": {
            "text/plain": [
              "1 rows affected."
            ],
            "text/html": [
              "<span style=\"color: green\">1 rows affected.</span>"
            ]
          },
          "metadata": {}
        },
        {
          "output_type": "display_data",
          "data": {
            "text/plain": [
              "1 rows affected."
            ],
            "text/html": [
              "<span style=\"color: green\">1 rows affected.</span>"
            ]
          },
          "metadata": {}
        },
        {
          "output_type": "display_data",
          "data": {
            "text/plain": [
              "1 rows affected."
            ],
            "text/html": [
              "<span style=\"color: green\">1 rows affected.</span>"
            ]
          },
          "metadata": {}
        },
        {
          "output_type": "display_data",
          "data": {
            "text/plain": [
              "1 rows affected."
            ],
            "text/html": [
              "<span style=\"color: green\">1 rows affected.</span>"
            ]
          },
          "metadata": {}
        },
        {
          "output_type": "display_data",
          "data": {
            "text/plain": [
              "1 rows affected."
            ],
            "text/html": [
              "<span style=\"color: green\">1 rows affected.</span>"
            ]
          },
          "metadata": {}
        },
        {
          "output_type": "display_data",
          "data": {
            "text/plain": [
              "1 rows affected."
            ],
            "text/html": [
              "<span style=\"color: green\">1 rows affected.</span>"
            ]
          },
          "metadata": {}
        },
        {
          "output_type": "display_data",
          "data": {
            "text/plain": [
              "1 rows affected."
            ],
            "text/html": [
              "<span style=\"color: green\">1 rows affected.</span>"
            ]
          },
          "metadata": {}
        },
        {
          "output_type": "display_data",
          "data": {
            "text/plain": [
              "1 rows affected."
            ],
            "text/html": [
              "<span style=\"color: green\">1 rows affected.</span>"
            ]
          },
          "metadata": {}
        },
        {
          "output_type": "display_data",
          "data": {
            "text/plain": [
              "1 rows affected."
            ],
            "text/html": [
              "<span style=\"color: green\">1 rows affected.</span>"
            ]
          },
          "metadata": {}
        },
        {
          "output_type": "display_data",
          "data": {
            "text/plain": [
              "1 rows affected."
            ],
            "text/html": [
              "<span style=\"color: green\">1 rows affected.</span>"
            ]
          },
          "metadata": {}
        },
        {
          "output_type": "display_data",
          "data": {
            "text/plain": [
              "1 rows affected."
            ],
            "text/html": [
              "<span style=\"color: green\">1 rows affected.</span>"
            ]
          },
          "metadata": {}
        },
        {
          "output_type": "display_data",
          "data": {
            "text/plain": [
              "1 rows affected."
            ],
            "text/html": [
              "<span style=\"color: green\">1 rows affected.</span>"
            ]
          },
          "metadata": {}
        },
        {
          "output_type": "display_data",
          "data": {
            "text/plain": [
              "1 rows affected."
            ],
            "text/html": [
              "<span style=\"color: green\">1 rows affected.</span>"
            ]
          },
          "metadata": {}
        },
        {
          "output_type": "display_data",
          "data": {
            "text/plain": [
              "1 rows affected."
            ],
            "text/html": [
              "<span style=\"color: green\">1 rows affected.</span>"
            ]
          },
          "metadata": {}
        },
        {
          "output_type": "display_data",
          "data": {
            "text/plain": [
              "1 rows affected."
            ],
            "text/html": [
              "<span style=\"color: green\">1 rows affected.</span>"
            ]
          },
          "metadata": {}
        },
        {
          "output_type": "display_data",
          "data": {
            "text/plain": [
              "1 rows affected."
            ],
            "text/html": [
              "<span style=\"color: green\">1 rows affected.</span>"
            ]
          },
          "metadata": {}
        },
        {
          "output_type": "display_data",
          "data": {
            "text/plain": [
              "1 rows affected."
            ],
            "text/html": [
              "<span style=\"color: green\">1 rows affected.</span>"
            ]
          },
          "metadata": {}
        },
        {
          "output_type": "display_data",
          "data": {
            "text/plain": [
              "1 rows affected."
            ],
            "text/html": [
              "<span style=\"color: green\">1 rows affected.</span>"
            ]
          },
          "metadata": {}
        },
        {
          "output_type": "display_data",
          "data": {
            "text/plain": [
              "1 rows affected."
            ],
            "text/html": [
              "<span style=\"color: green\">1 rows affected.</span>"
            ]
          },
          "metadata": {}
        },
        {
          "output_type": "display_data",
          "data": {
            "text/plain": [
              "1 rows affected."
            ],
            "text/html": [
              "<span style=\"color: green\">1 rows affected.</span>"
            ]
          },
          "metadata": {}
        },
        {
          "output_type": "display_data",
          "data": {
            "text/plain": [
              "1 rows affected."
            ],
            "text/html": [
              "<span style=\"color: green\">1 rows affected.</span>"
            ]
          },
          "metadata": {}
        },
        {
          "output_type": "display_data",
          "data": {
            "text/plain": [
              "1 rows affected."
            ],
            "text/html": [
              "<span style=\"color: green\">1 rows affected.</span>"
            ]
          },
          "metadata": {}
        },
        {
          "output_type": "display_data",
          "data": {
            "text/plain": [
              "1 rows affected."
            ],
            "text/html": [
              "<span style=\"color: green\">1 rows affected.</span>"
            ]
          },
          "metadata": {}
        },
        {
          "output_type": "display_data",
          "data": {
            "text/plain": [
              "1 rows affected."
            ],
            "text/html": [
              "<span style=\"color: green\">1 rows affected.</span>"
            ]
          },
          "metadata": {}
        },
        {
          "output_type": "display_data",
          "data": {
            "text/plain": [
              "1 rows affected."
            ],
            "text/html": [
              "<span style=\"color: green\">1 rows affected.</span>"
            ]
          },
          "metadata": {}
        },
        {
          "output_type": "display_data",
          "data": {
            "text/plain": [
              "1 rows affected."
            ],
            "text/html": [
              "<span style=\"color: green\">1 rows affected.</span>"
            ]
          },
          "metadata": {}
        },
        {
          "output_type": "display_data",
          "data": {
            "text/plain": [
              "1 rows affected."
            ],
            "text/html": [
              "<span style=\"color: green\">1 rows affected.</span>"
            ]
          },
          "metadata": {}
        },
        {
          "output_type": "display_data",
          "data": {
            "text/plain": [
              "1 rows affected."
            ],
            "text/html": [
              "<span style=\"color: green\">1 rows affected.</span>"
            ]
          },
          "metadata": {}
        },
        {
          "output_type": "display_data",
          "data": {
            "text/plain": [
              "1 rows affected."
            ],
            "text/html": [
              "<span style=\"color: green\">1 rows affected.</span>"
            ]
          },
          "metadata": {}
        },
        {
          "output_type": "display_data",
          "data": {
            "text/plain": [
              "1 rows affected."
            ],
            "text/html": [
              "<span style=\"color: green\">1 rows affected.</span>"
            ]
          },
          "metadata": {}
        },
        {
          "output_type": "display_data",
          "data": {
            "text/plain": [
              "1 rows affected."
            ],
            "text/html": [
              "<span style=\"color: green\">1 rows affected.</span>"
            ]
          },
          "metadata": {}
        },
        {
          "output_type": "display_data",
          "data": {
            "text/plain": [
              "1 rows affected."
            ],
            "text/html": [
              "<span style=\"color: green\">1 rows affected.</span>"
            ]
          },
          "metadata": {}
        },
        {
          "output_type": "display_data",
          "data": {
            "text/plain": [
              "1 rows affected."
            ],
            "text/html": [
              "<span style=\"color: green\">1 rows affected.</span>"
            ]
          },
          "metadata": {}
        },
        {
          "output_type": "display_data",
          "data": {
            "text/plain": [
              "1 rows affected."
            ],
            "text/html": [
              "<span style=\"color: green\">1 rows affected.</span>"
            ]
          },
          "metadata": {}
        },
        {
          "output_type": "display_data",
          "data": {
            "text/plain": [
              "1 rows affected."
            ],
            "text/html": [
              "<span style=\"color: green\">1 rows affected.</span>"
            ]
          },
          "metadata": {}
        },
        {
          "output_type": "display_data",
          "data": {
            "text/plain": [
              "1 rows affected."
            ],
            "text/html": [
              "<span style=\"color: green\">1 rows affected.</span>"
            ]
          },
          "metadata": {}
        },
        {
          "output_type": "display_data",
          "data": {
            "text/plain": [
              "1 rows affected."
            ],
            "text/html": [
              "<span style=\"color: green\">1 rows affected.</span>"
            ]
          },
          "metadata": {}
        },
        {
          "output_type": "display_data",
          "data": {
            "text/plain": [
              "1 rows affected."
            ],
            "text/html": [
              "<span style=\"color: green\">1 rows affected.</span>"
            ]
          },
          "metadata": {}
        },
        {
          "output_type": "display_data",
          "data": {
            "text/plain": [
              "1 rows affected."
            ],
            "text/html": [
              "<span style=\"color: green\">1 rows affected.</span>"
            ]
          },
          "metadata": {}
        },
        {
          "output_type": "display_data",
          "data": {
            "text/plain": [
              "1 rows affected."
            ],
            "text/html": [
              "<span style=\"color: green\">1 rows affected.</span>"
            ]
          },
          "metadata": {}
        },
        {
          "output_type": "display_data",
          "data": {
            "text/plain": [
              "1 rows affected."
            ],
            "text/html": [
              "<span style=\"color: green\">1 rows affected.</span>"
            ]
          },
          "metadata": {}
        },
        {
          "output_type": "display_data",
          "data": {
            "text/plain": [
              "1 rows affected."
            ],
            "text/html": [
              "<span style=\"color: green\">1 rows affected.</span>"
            ]
          },
          "metadata": {}
        },
        {
          "output_type": "display_data",
          "data": {
            "text/plain": [
              "1 rows affected."
            ],
            "text/html": [
              "<span style=\"color: green\">1 rows affected.</span>"
            ]
          },
          "metadata": {}
        },
        {
          "output_type": "display_data",
          "data": {
            "text/plain": [
              "1 rows affected."
            ],
            "text/html": [
              "<span style=\"color: green\">1 rows affected.</span>"
            ]
          },
          "metadata": {}
        },
        {
          "output_type": "display_data",
          "data": {
            "text/plain": [
              "1 rows affected."
            ],
            "text/html": [
              "<span style=\"color: green\">1 rows affected.</span>"
            ]
          },
          "metadata": {}
        },
        {
          "output_type": "display_data",
          "data": {
            "text/plain": [
              "1 rows affected."
            ],
            "text/html": [
              "<span style=\"color: green\">1 rows affected.</span>"
            ]
          },
          "metadata": {}
        },
        {
          "output_type": "display_data",
          "data": {
            "text/plain": [
              "1 rows affected."
            ],
            "text/html": [
              "<span style=\"color: green\">1 rows affected.</span>"
            ]
          },
          "metadata": {}
        },
        {
          "output_type": "display_data",
          "data": {
            "text/plain": [
              "1 rows affected."
            ],
            "text/html": [
              "<span style=\"color: green\">1 rows affected.</span>"
            ]
          },
          "metadata": {}
        },
        {
          "output_type": "display_data",
          "data": {
            "text/plain": [
              "1 rows affected."
            ],
            "text/html": [
              "<span style=\"color: green\">1 rows affected.</span>"
            ]
          },
          "metadata": {}
        },
        {
          "output_type": "display_data",
          "data": {
            "text/plain": [
              "1 rows affected."
            ],
            "text/html": [
              "<span style=\"color: green\">1 rows affected.</span>"
            ]
          },
          "metadata": {}
        },
        {
          "output_type": "display_data",
          "data": {
            "text/plain": [
              "1 rows affected."
            ],
            "text/html": [
              "<span style=\"color: green\">1 rows affected.</span>"
            ]
          },
          "metadata": {}
        },
        {
          "output_type": "display_data",
          "data": {
            "text/plain": [
              "1 rows affected."
            ],
            "text/html": [
              "<span style=\"color: green\">1 rows affected.</span>"
            ]
          },
          "metadata": {}
        },
        {
          "output_type": "display_data",
          "data": {
            "text/plain": [
              "1 rows affected."
            ],
            "text/html": [
              "<span style=\"color: green\">1 rows affected.</span>"
            ]
          },
          "metadata": {}
        },
        {
          "output_type": "display_data",
          "data": {
            "text/plain": [
              "1 rows affected."
            ],
            "text/html": [
              "<span style=\"color: green\">1 rows affected.</span>"
            ]
          },
          "metadata": {}
        },
        {
          "output_type": "display_data",
          "data": {
            "text/plain": [
              "1 rows affected."
            ],
            "text/html": [
              "<span style=\"color: green\">1 rows affected.</span>"
            ]
          },
          "metadata": {}
        },
        {
          "output_type": "display_data",
          "data": {
            "text/plain": [
              "1 rows affected."
            ],
            "text/html": [
              "<span style=\"color: green\">1 rows affected.</span>"
            ]
          },
          "metadata": {}
        },
        {
          "output_type": "display_data",
          "data": {
            "text/plain": [
              "1 rows affected."
            ],
            "text/html": [
              "<span style=\"color: green\">1 rows affected.</span>"
            ]
          },
          "metadata": {}
        },
        {
          "output_type": "display_data",
          "data": {
            "text/plain": [
              "1 rows affected."
            ],
            "text/html": [
              "<span style=\"color: green\">1 rows affected.</span>"
            ]
          },
          "metadata": {}
        },
        {
          "output_type": "display_data",
          "data": {
            "text/plain": [
              "1 rows affected."
            ],
            "text/html": [
              "<span style=\"color: green\">1 rows affected.</span>"
            ]
          },
          "metadata": {}
        },
        {
          "output_type": "display_data",
          "data": {
            "text/plain": [
              "1 rows affected."
            ],
            "text/html": [
              "<span style=\"color: green\">1 rows affected.</span>"
            ]
          },
          "metadata": {}
        },
        {
          "output_type": "display_data",
          "data": {
            "text/plain": [
              "1 rows affected."
            ],
            "text/html": [
              "<span style=\"color: green\">1 rows affected.</span>"
            ]
          },
          "metadata": {}
        },
        {
          "output_type": "execute_result",
          "data": {
            "text/plain": [
              "++\n",
              "||\n",
              "++\n",
              "++"
            ],
            "text/html": [
              "<table>\n",
              "    <thead>\n",
              "        <tr>\n",
              "        </tr>\n",
              "    </thead>\n",
              "    <tbody>\n",
              "    </tbody>\n",
              "</table>"
            ]
          },
          "metadata": {},
          "execution_count": 8
        }
      ]
    },
    {
      "cell_type": "markdown",
      "source": [
        "### Language Sypnosis + Branches/Loops Example Queries"
      ],
      "metadata": {
        "id": "29V7gA0OqEwk"
      }
    },
    {
      "cell_type": "markdown",
      "source": [
        "Operators and Data Retrieval"
      ],
      "metadata": {
        "id": "K-VDG4kqCU2j"
      }
    },
    {
      "cell_type": "code",
      "source": [
        "%%sql sqlite://\n",
        "\n",
        "-- orders lines for cancelled orders\n",
        "\n",
        "SELECT *\n",
        "FROM orders\n",
        "WHERE order_status = 'Cancelled';"
      ],
      "metadata": {
        "colab": {
          "base_uri": "https://localhost:8080/",
          "height": 104
        },
        "id": "tQhtypxXMDVO",
        "outputId": "f21d978e-d3b8-4f92-a650-4c054801c1e3"
      },
      "execution_count": 9,
      "outputs": [
        {
          "output_type": "execute_result",
          "data": {
            "text/plain": [
              "+----------+-------------+--------------+------------+\n",
              "| order_id | customer_id | order_status | order_date |\n",
              "+----------+-------------+--------------+------------+\n",
              "|   2004   |     1004    |  Cancelled   | 2024-11-14 |\n",
              "|   2014   |     1014    |  Cancelled   | 2024-11-24 |\n",
              "|   2021   |     1021    |  Cancelled   | 2024-11-16 |\n",
              "+----------+-------------+--------------+------------+"
            ],
            "text/html": [
              "<table>\n",
              "    <thead>\n",
              "        <tr>\n",
              "            <th>order_id</th>\n",
              "            <th>customer_id</th>\n",
              "            <th>order_status</th>\n",
              "            <th>order_date</th>\n",
              "        </tr>\n",
              "    </thead>\n",
              "    <tbody>\n",
              "        <tr>\n",
              "            <td>2004</td>\n",
              "            <td>1004</td>\n",
              "            <td>Cancelled</td>\n",
              "            <td>2024-11-14</td>\n",
              "        </tr>\n",
              "        <tr>\n",
              "            <td>2014</td>\n",
              "            <td>1014</td>\n",
              "            <td>Cancelled</td>\n",
              "            <td>2024-11-24</td>\n",
              "        </tr>\n",
              "        <tr>\n",
              "            <td>2021</td>\n",
              "            <td>1021</td>\n",
              "            <td>Cancelled</td>\n",
              "            <td>2024-11-16</td>\n",
              "        </tr>\n",
              "    </tbody>\n",
              "</table>"
            ]
          },
          "metadata": {},
          "execution_count": 9
        }
      ]
    },
    {
      "cell_type": "code",
      "source": [
        "%%sql sqlite://\n",
        "\n",
        "-- limiting outputs\n",
        "\n",
        "SELECT *\n",
        "FROM orders\n",
        "LIMIT 3;"
      ],
      "metadata": {
        "colab": {
          "base_uri": "https://localhost:8080/",
          "height": 104
        },
        "id": "U8YHxmn_3wTJ",
        "outputId": "0f69043c-611d-48be-e1e4-298bcbcdec70"
      },
      "execution_count": 11,
      "outputs": [
        {
          "output_type": "execute_result",
          "data": {
            "text/plain": [
              "+----------+-------------+--------------+------------+\n",
              "| order_id | customer_id | order_status | order_date |\n",
              "+----------+-------------+--------------+------------+\n",
              "|   2001   |     1001    |   Shipped    | 2024-11-11 |\n",
              "|   2002   |     1002    |   Pending    | 2024-11-12 |\n",
              "|   2003   |     1003    |  Delivered   | 2024-11-13 |\n",
              "+----------+-------------+--------------+------------+"
            ],
            "text/html": [
              "<table>\n",
              "    <thead>\n",
              "        <tr>\n",
              "            <th>order_id</th>\n",
              "            <th>customer_id</th>\n",
              "            <th>order_status</th>\n",
              "            <th>order_date</th>\n",
              "        </tr>\n",
              "    </thead>\n",
              "    <tbody>\n",
              "        <tr>\n",
              "            <td>2001</td>\n",
              "            <td>1001</td>\n",
              "            <td>Shipped</td>\n",
              "            <td>2024-11-11</td>\n",
              "        </tr>\n",
              "        <tr>\n",
              "            <td>2002</td>\n",
              "            <td>1002</td>\n",
              "            <td>Pending</td>\n",
              "            <td>2024-11-12</td>\n",
              "        </tr>\n",
              "        <tr>\n",
              "            <td>2003</td>\n",
              "            <td>1003</td>\n",
              "            <td>Delivered</td>\n",
              "            <td>2024-11-13</td>\n",
              "        </tr>\n",
              "    </tbody>\n",
              "</table>"
            ]
          },
          "metadata": {},
          "execution_count": 11
        }
      ]
    },
    {
      "cell_type": "code",
      "source": [
        "%%sql sqlite://\n",
        "\n",
        "-- Other Syntax for Limiting Outputs\n",
        "\n",
        "-- SQL Server and MS Access\n",
        "SELECT TOP number|percent column_name(s)\n",
        "FROM table_name\n",
        "WHERE condition;\n",
        "\n",
        "-- Oracle 12\n",
        "SELECT column_name(s)\n",
        "FROM table_name\n",
        "FETCH FIRST number ROWS ONLY;\n",
        "\n",
        "-- Older Oracle\n",
        "SELECT column_name(s)\n",
        "FROM table_name\n",
        "WHERE ROWNUM <= number;"
      ],
      "metadata": {
        "id": "qSmv07Wn76fj"
      },
      "execution_count": null,
      "outputs": []
    },
    {
      "cell_type": "code",
      "source": [
        "%%sql sqlite://\n",
        "\n",
        "-- order statuses\n",
        "\n",
        "SELECT DISTINCT order_status\n",
        "FROM orders;"
      ],
      "metadata": {
        "colab": {
          "base_uri": "https://localhost:8080/",
          "height": 126
        },
        "id": "snmzzo_9JZND",
        "outputId": "b4ff884e-03fd-4459-b44a-98b08a6df1c3"
      },
      "execution_count": 12,
      "outputs": [
        {
          "output_type": "execute_result",
          "data": {
            "text/plain": [
              "+--------------+\n",
              "| order_status |\n",
              "+--------------+\n",
              "|   Shipped    |\n",
              "|   Pending    |\n",
              "|  Delivered   |\n",
              "|  Cancelled   |\n",
              "+--------------+"
            ],
            "text/html": [
              "<table>\n",
              "    <thead>\n",
              "        <tr>\n",
              "            <th>order_status</th>\n",
              "        </tr>\n",
              "    </thead>\n",
              "    <tbody>\n",
              "        <tr>\n",
              "            <td>Shipped</td>\n",
              "        </tr>\n",
              "        <tr>\n",
              "            <td>Pending</td>\n",
              "        </tr>\n",
              "        <tr>\n",
              "            <td>Delivered</td>\n",
              "        </tr>\n",
              "        <tr>\n",
              "            <td>Cancelled</td>\n",
              "        </tr>\n",
              "    </tbody>\n",
              "</table>"
            ]
          },
          "metadata": {},
          "execution_count": 12
        }
      ]
    },
    {
      "cell_type": "code",
      "source": [
        "%%sql sqlite://\n",
        "\n",
        "-- total orders\n",
        "-- that are not shipped or delivered\n",
        "\n",
        "SELECT COUNT(DISTINCT order_id) AS total_orders\n",
        "FROM orders\n",
        "WHERE order_status != 'Shipped' OR 'Delivered';"
      ],
      "metadata": {
        "colab": {
          "base_uri": "https://localhost:8080/",
          "height": 62
        },
        "id": "KR3GyfYjzQay",
        "outputId": "1d428ba1-8f49-49f3-a921-6922d5958975"
      },
      "execution_count": 17,
      "outputs": [
        {
          "output_type": "execute_result",
          "data": {
            "text/plain": [
              "+--------------+\n",
              "| total_orders |\n",
              "+--------------+\n",
              "|      41      |\n",
              "+--------------+"
            ],
            "text/html": [
              "<table>\n",
              "    <thead>\n",
              "        <tr>\n",
              "            <th>total_orders</th>\n",
              "        </tr>\n",
              "    </thead>\n",
              "    <tbody>\n",
              "        <tr>\n",
              "            <td>41</td>\n",
              "        </tr>\n",
              "    </tbody>\n",
              "</table>"
            ]
          },
          "metadata": {},
          "execution_count": 17
        }
      ]
    },
    {
      "cell_type": "code",
      "source": [
        "%%sql sqlite://\n",
        "\n",
        "-- total L/S Compression Tops order\n",
        "\n",
        "SELECT COUNT(*) AS total_quantity\n",
        "FROM order_items\n",
        "WHERE item_name = 'L/S Compression Top';"
      ],
      "metadata": {
        "colab": {
          "base_uri": "https://localhost:8080/",
          "height": 62
        },
        "id": "H72eeNWYsErW",
        "outputId": "b3152fa4-5417-4658-e9d2-6139d57da44d"
      },
      "execution_count": 18,
      "outputs": [
        {
          "output_type": "execute_result",
          "data": {
            "text/plain": [
              "+----------------+\n",
              "| total_quantity |\n",
              "+----------------+\n",
              "|       17       |\n",
              "+----------------+"
            ],
            "text/html": [
              "<table>\n",
              "    <thead>\n",
              "        <tr>\n",
              "            <th>total_quantity</th>\n",
              "        </tr>\n",
              "    </thead>\n",
              "    <tbody>\n",
              "        <tr>\n",
              "            <td>17</td>\n",
              "        </tr>\n",
              "    </tbody>\n",
              "</table>"
            ]
          },
          "metadata": {},
          "execution_count": 18
        }
      ]
    },
    {
      "cell_type": "code",
      "source": [
        "%%sql sqlite://\n",
        "\n",
        "-- orders for Insignia products\n",
        "\n",
        "SELECT *\n",
        "FROM orders\n",
        "WHERE order_id IN (\n",
        "    SELECT order_id\n",
        "    FROM order_items\n",
        "    WHERE item_name LIKE 'Insignia%'\n",
        ");"
      ],
      "metadata": {
        "colab": {
          "base_uri": "https://localhost:8080/",
          "height": 1000
        },
        "id": "ukOZ1l4H1PkL",
        "outputId": "df4899b6-5bab-41da-be96-af9428d02dec"
      },
      "execution_count": 19,
      "outputs": [
        {
          "output_type": "execute_result",
          "data": {
            "text/plain": [
              "+----------+-------------+--------------+------------+\n",
              "| order_id | customer_id | order_status | order_date |\n",
              "+----------+-------------+--------------+------------+\n",
              "|   2001   |     1001    |   Shipped    | 2024-11-11 |\n",
              "|   2002   |     1002    |   Pending    | 2024-11-12 |\n",
              "|   2003   |     1003    |  Delivered   | 2024-11-13 |\n",
              "|   2004   |     1004    |  Cancelled   | 2024-11-14 |\n",
              "|   2005   |     1005    |   Pending    | 2024-11-15 |\n",
              "|   2007   |     1007    |  Delivered   | 2024-11-17 |\n",
              "|   2008   |     1008    |   Pending    | 2024-11-18 |\n",
              "|   2009   |     1009    |   Shipped    | 2024-11-19 |\n",
              "|   2010   |     1010    |  Delivered   | 2024-11-20 |\n",
              "|   2011   |     1011    |   Pending    | 2024-11-21 |\n",
              "|   2012   |     1012    |   Shipped    | 2024-11-22 |\n",
              "|   2013   |     1013    |  Delivered   | 2024-11-23 |\n",
              "|   2015   |     1015    |   Pending    | 2024-11-25 |\n",
              "|   2016   |     1016    |   Shipped    | 2024-11-11 |\n",
              "|   2018   |     1018    |   Pending    | 2024-11-13 |\n",
              "|   2019   |     1019    |   Shipped    | 2024-11-14 |\n",
              "|   2020   |     1020    |  Delivered   | 2024-11-15 |\n",
              "|   2022   |     1022    |   Pending    | 2024-11-17 |\n",
              "|   2023   |     1023    |   Shipped    | 2024-11-18 |\n",
              "|   2025   |     1025    |   Pending    | 2024-11-20 |\n",
              "|   2026   |     1026    |   Shipped    | 2024-11-21 |\n",
              "|   2027   |     1027    |  Delivered   | 2024-11-22 |\n",
              "|   2029   |     1029    |   Shipped    | 2024-11-24 |\n",
              "|   2030   |     1030    |  Delivered   | 2024-11-25 |\n",
              "|   2032   |     1032    |   Shipped    | 2024-11-12 |\n",
              "|   2033   |     1033    |  Delivered   | 2024-11-13 |\n",
              "|   2034   |     1034    |   Pending    | 2024-11-14 |\n",
              "|   2036   |     1036    |  Delivered   | 2024-11-16 |\n",
              "|   2037   |     1037    |   Pending    | 2024-11-17 |\n",
              "|   2039   |     1039    |  Delivered   | 2024-11-19 |\n",
              "|   2040   |     1040    |   Pending    | 2024-11-20 |\n",
              "|   2041   |     1041    |   Shipped    | 2024-11-21 |\n",
              "|   2043   |     1043    |   Pending    | 2024-11-23 |\n",
              "|   2044   |     1044    |   Shipped    | 2024-11-24 |\n",
              "|   2046   |     1046    |   Pending    | 2024-11-11 |\n",
              "|   2047   |     1047    |   Shipped    | 2024-11-12 |\n",
              "|   2048   |     1048    |  Delivered   | 2024-11-13 |\n",
              "|   2050   |     1050    |   Shipped    | 2024-11-15 |\n",
              "|   2051   |     1001    |  Delivered   | 2024-11-16 |\n",
              "|   2053   |     1003    |   Shipped    | 2024-11-18 |\n",
              "|   2054   |     1004    |  Delivered   | 2024-11-19 |\n",
              "|   2055   |     1005    |   Pending    | 2024-11-20 |\n",
              "|   2057   |     1007    |  Delivered   | 2024-11-22 |\n",
              "|   2058   |     1008    |   Pending    | 2024-11-23 |\n",
              "|   2060   |     1010    |  Delivered   | 2024-11-25 |\n",
              "+----------+-------------+--------------+------------+"
            ],
            "text/html": [
              "<table>\n",
              "    <thead>\n",
              "        <tr>\n",
              "            <th>order_id</th>\n",
              "            <th>customer_id</th>\n",
              "            <th>order_status</th>\n",
              "            <th>order_date</th>\n",
              "        </tr>\n",
              "    </thead>\n",
              "    <tbody>\n",
              "        <tr>\n",
              "            <td>2001</td>\n",
              "            <td>1001</td>\n",
              "            <td>Shipped</td>\n",
              "            <td>2024-11-11</td>\n",
              "        </tr>\n",
              "        <tr>\n",
              "            <td>2002</td>\n",
              "            <td>1002</td>\n",
              "            <td>Pending</td>\n",
              "            <td>2024-11-12</td>\n",
              "        </tr>\n",
              "        <tr>\n",
              "            <td>2003</td>\n",
              "            <td>1003</td>\n",
              "            <td>Delivered</td>\n",
              "            <td>2024-11-13</td>\n",
              "        </tr>\n",
              "        <tr>\n",
              "            <td>2004</td>\n",
              "            <td>1004</td>\n",
              "            <td>Cancelled</td>\n",
              "            <td>2024-11-14</td>\n",
              "        </tr>\n",
              "        <tr>\n",
              "            <td>2005</td>\n",
              "            <td>1005</td>\n",
              "            <td>Pending</td>\n",
              "            <td>2024-11-15</td>\n",
              "        </tr>\n",
              "        <tr>\n",
              "            <td>2007</td>\n",
              "            <td>1007</td>\n",
              "            <td>Delivered</td>\n",
              "            <td>2024-11-17</td>\n",
              "        </tr>\n",
              "        <tr>\n",
              "            <td>2008</td>\n",
              "            <td>1008</td>\n",
              "            <td>Pending</td>\n",
              "            <td>2024-11-18</td>\n",
              "        </tr>\n",
              "        <tr>\n",
              "            <td>2009</td>\n",
              "            <td>1009</td>\n",
              "            <td>Shipped</td>\n",
              "            <td>2024-11-19</td>\n",
              "        </tr>\n",
              "        <tr>\n",
              "            <td>2010</td>\n",
              "            <td>1010</td>\n",
              "            <td>Delivered</td>\n",
              "            <td>2024-11-20</td>\n",
              "        </tr>\n",
              "        <tr>\n",
              "            <td>2011</td>\n",
              "            <td>1011</td>\n",
              "            <td>Pending</td>\n",
              "            <td>2024-11-21</td>\n",
              "        </tr>\n",
              "        <tr>\n",
              "            <td>2012</td>\n",
              "            <td>1012</td>\n",
              "            <td>Shipped</td>\n",
              "            <td>2024-11-22</td>\n",
              "        </tr>\n",
              "        <tr>\n",
              "            <td>2013</td>\n",
              "            <td>1013</td>\n",
              "            <td>Delivered</td>\n",
              "            <td>2024-11-23</td>\n",
              "        </tr>\n",
              "        <tr>\n",
              "            <td>2015</td>\n",
              "            <td>1015</td>\n",
              "            <td>Pending</td>\n",
              "            <td>2024-11-25</td>\n",
              "        </tr>\n",
              "        <tr>\n",
              "            <td>2016</td>\n",
              "            <td>1016</td>\n",
              "            <td>Shipped</td>\n",
              "            <td>2024-11-11</td>\n",
              "        </tr>\n",
              "        <tr>\n",
              "            <td>2018</td>\n",
              "            <td>1018</td>\n",
              "            <td>Pending</td>\n",
              "            <td>2024-11-13</td>\n",
              "        </tr>\n",
              "        <tr>\n",
              "            <td>2019</td>\n",
              "            <td>1019</td>\n",
              "            <td>Shipped</td>\n",
              "            <td>2024-11-14</td>\n",
              "        </tr>\n",
              "        <tr>\n",
              "            <td>2020</td>\n",
              "            <td>1020</td>\n",
              "            <td>Delivered</td>\n",
              "            <td>2024-11-15</td>\n",
              "        </tr>\n",
              "        <tr>\n",
              "            <td>2022</td>\n",
              "            <td>1022</td>\n",
              "            <td>Pending</td>\n",
              "            <td>2024-11-17</td>\n",
              "        </tr>\n",
              "        <tr>\n",
              "            <td>2023</td>\n",
              "            <td>1023</td>\n",
              "            <td>Shipped</td>\n",
              "            <td>2024-11-18</td>\n",
              "        </tr>\n",
              "        <tr>\n",
              "            <td>2025</td>\n",
              "            <td>1025</td>\n",
              "            <td>Pending</td>\n",
              "            <td>2024-11-20</td>\n",
              "        </tr>\n",
              "        <tr>\n",
              "            <td>2026</td>\n",
              "            <td>1026</td>\n",
              "            <td>Shipped</td>\n",
              "            <td>2024-11-21</td>\n",
              "        </tr>\n",
              "        <tr>\n",
              "            <td>2027</td>\n",
              "            <td>1027</td>\n",
              "            <td>Delivered</td>\n",
              "            <td>2024-11-22</td>\n",
              "        </tr>\n",
              "        <tr>\n",
              "            <td>2029</td>\n",
              "            <td>1029</td>\n",
              "            <td>Shipped</td>\n",
              "            <td>2024-11-24</td>\n",
              "        </tr>\n",
              "        <tr>\n",
              "            <td>2030</td>\n",
              "            <td>1030</td>\n",
              "            <td>Delivered</td>\n",
              "            <td>2024-11-25</td>\n",
              "        </tr>\n",
              "        <tr>\n",
              "            <td>2032</td>\n",
              "            <td>1032</td>\n",
              "            <td>Shipped</td>\n",
              "            <td>2024-11-12</td>\n",
              "        </tr>\n",
              "        <tr>\n",
              "            <td>2033</td>\n",
              "            <td>1033</td>\n",
              "            <td>Delivered</td>\n",
              "            <td>2024-11-13</td>\n",
              "        </tr>\n",
              "        <tr>\n",
              "            <td>2034</td>\n",
              "            <td>1034</td>\n",
              "            <td>Pending</td>\n",
              "            <td>2024-11-14</td>\n",
              "        </tr>\n",
              "        <tr>\n",
              "            <td>2036</td>\n",
              "            <td>1036</td>\n",
              "            <td>Delivered</td>\n",
              "            <td>2024-11-16</td>\n",
              "        </tr>\n",
              "        <tr>\n",
              "            <td>2037</td>\n",
              "            <td>1037</td>\n",
              "            <td>Pending</td>\n",
              "            <td>2024-11-17</td>\n",
              "        </tr>\n",
              "        <tr>\n",
              "            <td>2039</td>\n",
              "            <td>1039</td>\n",
              "            <td>Delivered</td>\n",
              "            <td>2024-11-19</td>\n",
              "        </tr>\n",
              "        <tr>\n",
              "            <td>2040</td>\n",
              "            <td>1040</td>\n",
              "            <td>Pending</td>\n",
              "            <td>2024-11-20</td>\n",
              "        </tr>\n",
              "        <tr>\n",
              "            <td>2041</td>\n",
              "            <td>1041</td>\n",
              "            <td>Shipped</td>\n",
              "            <td>2024-11-21</td>\n",
              "        </tr>\n",
              "        <tr>\n",
              "            <td>2043</td>\n",
              "            <td>1043</td>\n",
              "            <td>Pending</td>\n",
              "            <td>2024-11-23</td>\n",
              "        </tr>\n",
              "        <tr>\n",
              "            <td>2044</td>\n",
              "            <td>1044</td>\n",
              "            <td>Shipped</td>\n",
              "            <td>2024-11-24</td>\n",
              "        </tr>\n",
              "        <tr>\n",
              "            <td>2046</td>\n",
              "            <td>1046</td>\n",
              "            <td>Pending</td>\n",
              "            <td>2024-11-11</td>\n",
              "        </tr>\n",
              "        <tr>\n",
              "            <td>2047</td>\n",
              "            <td>1047</td>\n",
              "            <td>Shipped</td>\n",
              "            <td>2024-11-12</td>\n",
              "        </tr>\n",
              "        <tr>\n",
              "            <td>2048</td>\n",
              "            <td>1048</td>\n",
              "            <td>Delivered</td>\n",
              "            <td>2024-11-13</td>\n",
              "        </tr>\n",
              "        <tr>\n",
              "            <td>2050</td>\n",
              "            <td>1050</td>\n",
              "            <td>Shipped</td>\n",
              "            <td>2024-11-15</td>\n",
              "        </tr>\n",
              "        <tr>\n",
              "            <td>2051</td>\n",
              "            <td>1001</td>\n",
              "            <td>Delivered</td>\n",
              "            <td>2024-11-16</td>\n",
              "        </tr>\n",
              "        <tr>\n",
              "            <td>2053</td>\n",
              "            <td>1003</td>\n",
              "            <td>Shipped</td>\n",
              "            <td>2024-11-18</td>\n",
              "        </tr>\n",
              "        <tr>\n",
              "            <td>2054</td>\n",
              "            <td>1004</td>\n",
              "            <td>Delivered</td>\n",
              "            <td>2024-11-19</td>\n",
              "        </tr>\n",
              "        <tr>\n",
              "            <td>2055</td>\n",
              "            <td>1005</td>\n",
              "            <td>Pending</td>\n",
              "            <td>2024-11-20</td>\n",
              "        </tr>\n",
              "        <tr>\n",
              "            <td>2057</td>\n",
              "            <td>1007</td>\n",
              "            <td>Delivered</td>\n",
              "            <td>2024-11-22</td>\n",
              "        </tr>\n",
              "        <tr>\n",
              "            <td>2058</td>\n",
              "            <td>1008</td>\n",
              "            <td>Pending</td>\n",
              "            <td>2024-11-23</td>\n",
              "        </tr>\n",
              "        <tr>\n",
              "            <td>2060</td>\n",
              "            <td>1010</td>\n",
              "            <td>Delivered</td>\n",
              "            <td>2024-11-25</td>\n",
              "        </tr>\n",
              "    </tbody>\n",
              "</table>"
            ]
          },
          "metadata": {},
          "execution_count": 19
        }
      ]
    },
    {
      "cell_type": "code",
      "source": [
        "%%sql sqlite://\n",
        "\n",
        "-- other LIKE (Wildcard) Characters\n",
        "\n",
        "-- %\tRepresents zero or more characters\n",
        "  WHERE item_name LIKE 'Insignia%'\n",
        "\n",
        "-- _\tRepresents a single character\n",
        "  WHERE item_name LIKE 'Insi_nia%'\n",
        "\n",
        "-- []\tRepresents any single character within the brackets *\n",
        "  WHERE item_name LIKE 'In[qrs]ignia%'\n",
        "\n",
        "-- -\tRepresents any single character within the specified range *\n",
        "  WHERE item_name LIKE 'In[l-v]ignia%'"
      ],
      "metadata": {
        "id": "QWgXrtD5CClB"
      },
      "execution_count": null,
      "outputs": []
    },
    {
      "cell_type": "code",
      "source": [
        "%%sql sqlite://\n",
        "\n",
        "-- orders lines for orders between 11/11 and 11/15, ordered by order date\n",
        "-- AND customer ids between 1042 and 1050\n",
        "\n",
        "SELECT *\n",
        "FROM orders\n",
        "WHERE order_date < '2024-11-15' AND order_date > '2024-11-11'\n",
        "  AND customer_id BETWEEN 1042 AND 1050\n",
        "ORDER BY order_date, order_id ASC;"
      ],
      "metadata": {
        "colab": {
          "base_uri": "https://localhost:8080/",
          "height": 104
        },
        "id": "JE7GgBWCoRIO",
        "outputId": "9f6c543e-c79d-4062-dae4-6877dbd9b296"
      },
      "execution_count": 21,
      "outputs": [
        {
          "output_type": "execute_result",
          "data": {
            "text/plain": [
              "+----------+-------------+--------------+------------+\n",
              "| order_id | customer_id | order_status | order_date |\n",
              "+----------+-------------+--------------+------------+\n",
              "|   2047   |     1047    |   Shipped    | 2024-11-12 |\n",
              "|   2048   |     1048    |  Delivered   | 2024-11-13 |\n",
              "|   2049   |     1049    |   Pending    | 2024-11-14 |\n",
              "+----------+-------------+--------------+------------+"
            ],
            "text/html": [
              "<table>\n",
              "    <thead>\n",
              "        <tr>\n",
              "            <th>order_id</th>\n",
              "            <th>customer_id</th>\n",
              "            <th>order_status</th>\n",
              "            <th>order_date</th>\n",
              "        </tr>\n",
              "    </thead>\n",
              "    <tbody>\n",
              "        <tr>\n",
              "            <td>2047</td>\n",
              "            <td>1047</td>\n",
              "            <td>Shipped</td>\n",
              "            <td>2024-11-12</td>\n",
              "        </tr>\n",
              "        <tr>\n",
              "            <td>2048</td>\n",
              "            <td>1048</td>\n",
              "            <td>Delivered</td>\n",
              "            <td>2024-11-13</td>\n",
              "        </tr>\n",
              "        <tr>\n",
              "            <td>2049</td>\n",
              "            <td>1049</td>\n",
              "            <td>Pending</td>\n",
              "            <td>2024-11-14</td>\n",
              "        </tr>\n",
              "    </tbody>\n",
              "</table>"
            ]
          },
          "metadata": {},
          "execution_count": 21
        }
      ]
    },
    {
      "cell_type": "markdown",
      "source": [
        "Branches + Loops\n",
        "- Case Statements"
      ],
      "metadata": {
        "id": "WMSxg_HpCA_v"
      }
    },
    {
      "cell_type": "code",
      "source": [
        "%%sql sqlite://\n",
        "\n",
        "-- case statement loop for shipping time\n",
        "\n",
        "SELECT\n",
        "  name AS customer_name,\n",
        "  customer_id AS customer_id,\n",
        "  state AS customer_state,\n",
        "  CASE\n",
        "    WHEN state = 'Florida' THEN 'Next Day'\n",
        "    WHEN state = 'Alaska' OR 'Hawaii' THEN 'Four Day'\n",
        "    ELSE 'Standard Two Day'\n",
        "  END AS shipping_time\n",
        "FROM customers;"
      ],
      "metadata": {
        "colab": {
          "base_uri": "https://localhost:8080/",
          "height": 1000
        },
        "collapsed": true,
        "id": "6cInnc-cCDb-",
        "outputId": "459dc004-55c2-4bec-e6e1-60dde5c36309"
      },
      "execution_count": 22,
      "outputs": [
        {
          "output_type": "execute_result",
          "data": {
            "text/plain": [
              "+-----------------+-------------+----------------+------------------+\n",
              "|  customer_name  | customer_id | customer_state |  shipping_time   |\n",
              "+-----------------+-------------+----------------+------------------+\n",
              "|   Alice Smith   |     1001    |   California   | Standard Two Day |\n",
              "|   Bob Johnson   |     1002    |    New York    | Standard Two Day |\n",
              "|  Charlie Brown  |     1003    |     Texas      | Standard Two Day |\n",
              "|   Diana Green   |     1004    |    Florida     |     Next Day     |\n",
              "|   Edward White  |     1005    |    Illinois    | Standard Two Day |\n",
              "|   Fiona Black   |     1006    |     Nevada     | Standard Two Day |\n",
              "|  George Miller  |     1007    |   Washington   | Standard Two Day |\n",
              "|    Hannah Lee   |     1008    |     Oregon     | Standard Two Day |\n",
              "|    Ian Walker   |     1009    |    Arizona     | Standard Two Day |\n",
              "| Jackie Robinson |     1010    |    Colorado    | Standard Two Day |\n",
              "|    Karen Hall   |     1011    |    Georgia     | Standard Two Day |\n",
              "|    Liam King    |     1012    |    Alabama     | Standard Two Day |\n",
              "|   Molly Adams   |     1013    |    Michigan    | Standard Two Day |\n",
              "|  Nathan Carter  |     1014    |      Ohio      | Standard Two Day |\n",
              "|   Olivia Scott  |     1015    |    Indiana     | Standard Two Day |\n",
              "|   Paul Turner   |     1016    |    Missouri    | Standard Two Day |\n",
              "|   Quinn Harris  |     1017    |    Kentucky    | Standard Two Day |\n",
              "|  Rachel Wright  |     1018    |    Virginia    | Standard Two Day |\n",
              "|   Samuel Young  |     1019    |   Tennessee    | Standard Two Day |\n",
              "|  Tina Mitchell  |     1020    |   Minnesota    | Standard Two Day |\n",
              "|    Umar Reed    |     1021    |  Mississippi   | Standard Two Day |\n",
              "| Victoria Hughes |     1022    |   Wisconsin    | Standard Two Day |\n",
              "|  William Bryant |     1023    | South Carolina | Standard Two Day |\n",
              "|   Xena Harper   |     1024    | North Carolina | Standard Two Day |\n",
              "|  Yasmine Morris |     1025    |   Louisiana    | Standard Two Day |\n",
              "|   Zachary Ford  |     1026    |    Arkansas    | Standard Two Day |\n",
              "|  Abigail Brooks |     1027    |    Montana     | Standard Two Day |\n",
              "| Benjamin Fisher |     1028    | West Virginia  | Standard Two Day |\n",
              "| Catherine James |     1029    |    Nebraska    | Standard Two Day |\n",
              "|   David Ellis   |     1030    |  South Dakota  | Standard Two Day |\n",
              "|   Elena Peters  |     1031    |  North Dakota  | Standard Two Day |\n",
              "|  Franklin Ross  |     1032    |     Hawaii     | Standard Two Day |\n",
              "|  Grace Coleman  |     1033    |     Alaska     |     Four Day     |\n",
              "|  Henry Ramirez  |     1034    |     Maine      | Standard Two Day |\n",
              "|    Isla Clark   |     1035    | New Hampshire  | Standard Two Day |\n",
              "|    Jacob Hill   |     1036    |    Vermont     | Standard Two Day |\n",
              "|  Kaitlyn Perez  |     1037    |    Delaware    | Standard Two Day |\n",
              "|  Logan Simmons  |     1038    |  Rhode Island  | Standard Two Day |\n",
              "|   Megan Foster  |     1039    |  Connecticut   | Standard Two Day |\n",
              "|  Noah Gonzales  |     1040    | Massachusetts  | Standard Two Day |\n",
              "|  Olivia Russell |     1041    |  Pennsylvania  | Standard Two Day |\n",
              "|   Parker Hayes  |     1042    |    Maryland    | Standard Two Day |\n",
              "|  Quincy Bennett |     1043    |   New Jersey   | Standard Two Day |\n",
              "|   Riley Torres  |     1044    |   New Mexico   | Standard Two Day |\n",
              "|   Sophia Reed   |     1045    |      Utah      | Standard Two Day |\n",
              "|   Thomas Lewis  |     1046    |     Kansas     | Standard Two Day |\n",
              "|   Uma Edwards   |     1047    |    Oklahoma    | Standard Two Day |\n",
              "|   Victor Hall   |     1048    |     Idaho      | Standard Two Day |\n",
              "|    Wendy Bell   |     1049    |    Wyoming     | Standard Two Day |\n",
              "|   Xander Scott  |     1050    |    Montana     | Standard Two Day |\n",
              "+-----------------+-------------+----------------+------------------+"
            ],
            "text/html": [
              "<table>\n",
              "    <thead>\n",
              "        <tr>\n",
              "            <th>customer_name</th>\n",
              "            <th>customer_id</th>\n",
              "            <th>customer_state</th>\n",
              "            <th>shipping_time</th>\n",
              "        </tr>\n",
              "    </thead>\n",
              "    <tbody>\n",
              "        <tr>\n",
              "            <td>Alice Smith</td>\n",
              "            <td>1001</td>\n",
              "            <td>California</td>\n",
              "            <td>Standard Two Day</td>\n",
              "        </tr>\n",
              "        <tr>\n",
              "            <td>Bob Johnson</td>\n",
              "            <td>1002</td>\n",
              "            <td>New York</td>\n",
              "            <td>Standard Two Day</td>\n",
              "        </tr>\n",
              "        <tr>\n",
              "            <td>Charlie Brown</td>\n",
              "            <td>1003</td>\n",
              "            <td>Texas</td>\n",
              "            <td>Standard Two Day</td>\n",
              "        </tr>\n",
              "        <tr>\n",
              "            <td>Diana Green</td>\n",
              "            <td>1004</td>\n",
              "            <td>Florida</td>\n",
              "            <td>Next Day</td>\n",
              "        </tr>\n",
              "        <tr>\n",
              "            <td>Edward White</td>\n",
              "            <td>1005</td>\n",
              "            <td>Illinois</td>\n",
              "            <td>Standard Two Day</td>\n",
              "        </tr>\n",
              "        <tr>\n",
              "            <td>Fiona Black</td>\n",
              "            <td>1006</td>\n",
              "            <td>Nevada</td>\n",
              "            <td>Standard Two Day</td>\n",
              "        </tr>\n",
              "        <tr>\n",
              "            <td>George Miller</td>\n",
              "            <td>1007</td>\n",
              "            <td>Washington</td>\n",
              "            <td>Standard Two Day</td>\n",
              "        </tr>\n",
              "        <tr>\n",
              "            <td>Hannah Lee</td>\n",
              "            <td>1008</td>\n",
              "            <td>Oregon</td>\n",
              "            <td>Standard Two Day</td>\n",
              "        </tr>\n",
              "        <tr>\n",
              "            <td>Ian Walker</td>\n",
              "            <td>1009</td>\n",
              "            <td>Arizona</td>\n",
              "            <td>Standard Two Day</td>\n",
              "        </tr>\n",
              "        <tr>\n",
              "            <td>Jackie Robinson</td>\n",
              "            <td>1010</td>\n",
              "            <td>Colorado</td>\n",
              "            <td>Standard Two Day</td>\n",
              "        </tr>\n",
              "        <tr>\n",
              "            <td>Karen Hall</td>\n",
              "            <td>1011</td>\n",
              "            <td>Georgia</td>\n",
              "            <td>Standard Two Day</td>\n",
              "        </tr>\n",
              "        <tr>\n",
              "            <td>Liam King</td>\n",
              "            <td>1012</td>\n",
              "            <td>Alabama</td>\n",
              "            <td>Standard Two Day</td>\n",
              "        </tr>\n",
              "        <tr>\n",
              "            <td>Molly Adams</td>\n",
              "            <td>1013</td>\n",
              "            <td>Michigan</td>\n",
              "            <td>Standard Two Day</td>\n",
              "        </tr>\n",
              "        <tr>\n",
              "            <td>Nathan Carter</td>\n",
              "            <td>1014</td>\n",
              "            <td>Ohio</td>\n",
              "            <td>Standard Two Day</td>\n",
              "        </tr>\n",
              "        <tr>\n",
              "            <td>Olivia Scott</td>\n",
              "            <td>1015</td>\n",
              "            <td>Indiana</td>\n",
              "            <td>Standard Two Day</td>\n",
              "        </tr>\n",
              "        <tr>\n",
              "            <td>Paul Turner</td>\n",
              "            <td>1016</td>\n",
              "            <td>Missouri</td>\n",
              "            <td>Standard Two Day</td>\n",
              "        </tr>\n",
              "        <tr>\n",
              "            <td>Quinn Harris</td>\n",
              "            <td>1017</td>\n",
              "            <td>Kentucky</td>\n",
              "            <td>Standard Two Day</td>\n",
              "        </tr>\n",
              "        <tr>\n",
              "            <td>Rachel Wright</td>\n",
              "            <td>1018</td>\n",
              "            <td>Virginia</td>\n",
              "            <td>Standard Two Day</td>\n",
              "        </tr>\n",
              "        <tr>\n",
              "            <td>Samuel Young</td>\n",
              "            <td>1019</td>\n",
              "            <td>Tennessee</td>\n",
              "            <td>Standard Two Day</td>\n",
              "        </tr>\n",
              "        <tr>\n",
              "            <td>Tina Mitchell</td>\n",
              "            <td>1020</td>\n",
              "            <td>Minnesota</td>\n",
              "            <td>Standard Two Day</td>\n",
              "        </tr>\n",
              "        <tr>\n",
              "            <td>Umar Reed</td>\n",
              "            <td>1021</td>\n",
              "            <td>Mississippi</td>\n",
              "            <td>Standard Two Day</td>\n",
              "        </tr>\n",
              "        <tr>\n",
              "            <td>Victoria Hughes</td>\n",
              "            <td>1022</td>\n",
              "            <td>Wisconsin</td>\n",
              "            <td>Standard Two Day</td>\n",
              "        </tr>\n",
              "        <tr>\n",
              "            <td>William Bryant</td>\n",
              "            <td>1023</td>\n",
              "            <td>South Carolina</td>\n",
              "            <td>Standard Two Day</td>\n",
              "        </tr>\n",
              "        <tr>\n",
              "            <td>Xena Harper</td>\n",
              "            <td>1024</td>\n",
              "            <td>North Carolina</td>\n",
              "            <td>Standard Two Day</td>\n",
              "        </tr>\n",
              "        <tr>\n",
              "            <td>Yasmine Morris</td>\n",
              "            <td>1025</td>\n",
              "            <td>Louisiana</td>\n",
              "            <td>Standard Two Day</td>\n",
              "        </tr>\n",
              "        <tr>\n",
              "            <td>Zachary Ford</td>\n",
              "            <td>1026</td>\n",
              "            <td>Arkansas</td>\n",
              "            <td>Standard Two Day</td>\n",
              "        </tr>\n",
              "        <tr>\n",
              "            <td>Abigail Brooks</td>\n",
              "            <td>1027</td>\n",
              "            <td>Montana</td>\n",
              "            <td>Standard Two Day</td>\n",
              "        </tr>\n",
              "        <tr>\n",
              "            <td>Benjamin Fisher</td>\n",
              "            <td>1028</td>\n",
              "            <td>West Virginia</td>\n",
              "            <td>Standard Two Day</td>\n",
              "        </tr>\n",
              "        <tr>\n",
              "            <td>Catherine James</td>\n",
              "            <td>1029</td>\n",
              "            <td>Nebraska</td>\n",
              "            <td>Standard Two Day</td>\n",
              "        </tr>\n",
              "        <tr>\n",
              "            <td>David Ellis</td>\n",
              "            <td>1030</td>\n",
              "            <td>South Dakota</td>\n",
              "            <td>Standard Two Day</td>\n",
              "        </tr>\n",
              "        <tr>\n",
              "            <td>Elena Peters</td>\n",
              "            <td>1031</td>\n",
              "            <td>North Dakota</td>\n",
              "            <td>Standard Two Day</td>\n",
              "        </tr>\n",
              "        <tr>\n",
              "            <td>Franklin Ross</td>\n",
              "            <td>1032</td>\n",
              "            <td>Hawaii</td>\n",
              "            <td>Standard Two Day</td>\n",
              "        </tr>\n",
              "        <tr>\n",
              "            <td>Grace Coleman</td>\n",
              "            <td>1033</td>\n",
              "            <td>Alaska</td>\n",
              "            <td>Four Day</td>\n",
              "        </tr>\n",
              "        <tr>\n",
              "            <td>Henry Ramirez</td>\n",
              "            <td>1034</td>\n",
              "            <td>Maine</td>\n",
              "            <td>Standard Two Day</td>\n",
              "        </tr>\n",
              "        <tr>\n",
              "            <td>Isla Clark</td>\n",
              "            <td>1035</td>\n",
              "            <td>New Hampshire</td>\n",
              "            <td>Standard Two Day</td>\n",
              "        </tr>\n",
              "        <tr>\n",
              "            <td>Jacob Hill</td>\n",
              "            <td>1036</td>\n",
              "            <td>Vermont</td>\n",
              "            <td>Standard Two Day</td>\n",
              "        </tr>\n",
              "        <tr>\n",
              "            <td>Kaitlyn Perez</td>\n",
              "            <td>1037</td>\n",
              "            <td>Delaware</td>\n",
              "            <td>Standard Two Day</td>\n",
              "        </tr>\n",
              "        <tr>\n",
              "            <td>Logan Simmons</td>\n",
              "            <td>1038</td>\n",
              "            <td>Rhode Island</td>\n",
              "            <td>Standard Two Day</td>\n",
              "        </tr>\n",
              "        <tr>\n",
              "            <td>Megan Foster</td>\n",
              "            <td>1039</td>\n",
              "            <td>Connecticut</td>\n",
              "            <td>Standard Two Day</td>\n",
              "        </tr>\n",
              "        <tr>\n",
              "            <td>Noah Gonzales</td>\n",
              "            <td>1040</td>\n",
              "            <td>Massachusetts</td>\n",
              "            <td>Standard Two Day</td>\n",
              "        </tr>\n",
              "        <tr>\n",
              "            <td>Olivia Russell</td>\n",
              "            <td>1041</td>\n",
              "            <td>Pennsylvania</td>\n",
              "            <td>Standard Two Day</td>\n",
              "        </tr>\n",
              "        <tr>\n",
              "            <td>Parker Hayes</td>\n",
              "            <td>1042</td>\n",
              "            <td>Maryland</td>\n",
              "            <td>Standard Two Day</td>\n",
              "        </tr>\n",
              "        <tr>\n",
              "            <td>Quincy Bennett</td>\n",
              "            <td>1043</td>\n",
              "            <td>New Jersey</td>\n",
              "            <td>Standard Two Day</td>\n",
              "        </tr>\n",
              "        <tr>\n",
              "            <td>Riley Torres</td>\n",
              "            <td>1044</td>\n",
              "            <td>New Mexico</td>\n",
              "            <td>Standard Two Day</td>\n",
              "        </tr>\n",
              "        <tr>\n",
              "            <td>Sophia Reed</td>\n",
              "            <td>1045</td>\n",
              "            <td>Utah</td>\n",
              "            <td>Standard Two Day</td>\n",
              "        </tr>\n",
              "        <tr>\n",
              "            <td>Thomas Lewis</td>\n",
              "            <td>1046</td>\n",
              "            <td>Kansas</td>\n",
              "            <td>Standard Two Day</td>\n",
              "        </tr>\n",
              "        <tr>\n",
              "            <td>Uma Edwards</td>\n",
              "            <td>1047</td>\n",
              "            <td>Oklahoma</td>\n",
              "            <td>Standard Two Day</td>\n",
              "        </tr>\n",
              "        <tr>\n",
              "            <td>Victor Hall</td>\n",
              "            <td>1048</td>\n",
              "            <td>Idaho</td>\n",
              "            <td>Standard Two Day</td>\n",
              "        </tr>\n",
              "        <tr>\n",
              "            <td>Wendy Bell</td>\n",
              "            <td>1049</td>\n",
              "            <td>Wyoming</td>\n",
              "            <td>Standard Two Day</td>\n",
              "        </tr>\n",
              "        <tr>\n",
              "            <td>Xander Scott</td>\n",
              "            <td>1050</td>\n",
              "            <td>Montana</td>\n",
              "            <td>Standard Two Day</td>\n",
              "        </tr>\n",
              "    </tbody>\n",
              "</table>"
            ]
          },
          "metadata": {},
          "execution_count": 22
        }
      ]
    },
    {
      "cell_type": "markdown",
      "source": [
        "### Intermediate and Unique Features\n",
        "- Indexing\n",
        "- Joins"
      ],
      "metadata": {
        "id": "l_YwHhF6CDyb"
      }
    },
    {
      "cell_type": "markdown",
      "source": [
        "JOINS\n",
        "\n",
        "(INNER) JOIN: Returns records that have matching values in both tables\n",
        "\n",
        "LEFT (OUTER) JOIN: Returns all records from the left table, and the matched records from the right table\n",
        "\n",
        "RIGHT (OUTER) JOIN: Returns all records from the right table, and the matched records from the left table\n",
        "\n",
        "FULL (OUTER) JOIN: Returns all records when there is a match in either left or right table\n",
        "\n",
        "\n"
      ],
      "metadata": {
        "id": "srwgMSuCDNLQ"
      }
    },
    {
      "cell_type": "markdown",
      "source": [
        "![Xnip2024-12-08_11-15-01.jpg](data:image/jpeg;base64,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)"
      ],
      "metadata": {
        "id": "o5QeMWciDe7c"
      }
    },
    {
      "cell_type": "code",
      "source": [
        "%%sql sqlite://\n",
        "\n",
        "-- average total order price\n",
        "\n",
        "SELECT AVG(order_total_price) AS avg_order_price\n",
        "FROM (\n",
        "    SELECT o.order_id, SUM(oi.quantity * oi.list_price) AS order_total_price\n",
        "    FROM orders o\n",
        "    JOIN order_items oi ON o.order_id = oi.order_id\n",
        "    GROUP BY o.order_id\n",
        ") AS order_totals;\n"
      ],
      "metadata": {
        "colab": {
          "base_uri": "https://localhost:8080/",
          "height": 62
        },
        "id": "VgESRKLEsh0G",
        "outputId": "704ea5c0-cbf1-4822-f0f7-6747cbcbf59d"
      },
      "execution_count": 23,
      "outputs": [
        {
          "output_type": "execute_result",
          "data": {
            "text/plain": [
              "+-----------------+\n",
              "| avg_order_price |\n",
              "+-----------------+\n",
              "|      399.9      |\n",
              "+-----------------+"
            ],
            "text/html": [
              "<table>\n",
              "    <thead>\n",
              "        <tr>\n",
              "            <th>avg_order_price</th>\n",
              "        </tr>\n",
              "    </thead>\n",
              "    <tbody>\n",
              "        <tr>\n",
              "            <td>399.9</td>\n",
              "        </tr>\n",
              "    </tbody>\n",
              "</table>"
            ]
          },
          "metadata": {},
          "execution_count": 23
        }
      ]
    },
    {
      "cell_type": "code",
      "source": [
        "%%sql sqlite://\n",
        "\n",
        "-- top 10 highest total_order_price\n",
        "\n",
        "SELECT o.customer_id, o.order_id, SUM(oi.quantity * oi.list_price) AS total_order_price\n",
        "FROM orders o\n",
        "JOIN order_items oi ON o.order_id = oi.order_id\n",
        "GROUP BY o.order_id\n",
        "ORDER BY total_order_price DESC\n",
        "LIMIT 10;"
      ],
      "metadata": {
        "colab": {
          "base_uri": "https://localhost:8080/",
          "height": 254
        },
        "id": "nCc_MDzF_rqW",
        "outputId": "4c0d5fb7-7ca4-4d2d-8bf9-b4a7478cf0e2"
      },
      "execution_count": 27,
      "outputs": [
        {
          "output_type": "execute_result",
          "data": {
            "text/plain": [
              "+-------------+----------+-------------------+\n",
              "| customer_id | order_id | total_order_price |\n",
              "+-------------+----------+-------------------+\n",
              "|     1007    |   2057   |        774        |\n",
              "|     1050    |   2050   |        774        |\n",
              "|     1043    |   2043   |        774        |\n",
              "|     1036    |   2036   |        774        |\n",
              "|     1018    |   2018   |        614        |\n",
              "|     1011    |   2011   |        614        |\n",
              "|     1027    |   2027   |        530        |\n",
              "|     1029    |   2029   |        516        |\n",
              "|     1022    |   2022   |        516        |\n",
              "|     1010    |   2010   |        472        |\n",
              "+-------------+----------+-------------------+"
            ],
            "text/html": [
              "<table>\n",
              "    <thead>\n",
              "        <tr>\n",
              "            <th>customer_id</th>\n",
              "            <th>order_id</th>\n",
              "            <th>total_order_price</th>\n",
              "        </tr>\n",
              "    </thead>\n",
              "    <tbody>\n",
              "        <tr>\n",
              "            <td>1007</td>\n",
              "            <td>2057</td>\n",
              "            <td>774</td>\n",
              "        </tr>\n",
              "        <tr>\n",
              "            <td>1050</td>\n",
              "            <td>2050</td>\n",
              "            <td>774</td>\n",
              "        </tr>\n",
              "        <tr>\n",
              "            <td>1043</td>\n",
              "            <td>2043</td>\n",
              "            <td>774</td>\n",
              "        </tr>\n",
              "        <tr>\n",
              "            <td>1036</td>\n",
              "            <td>2036</td>\n",
              "            <td>774</td>\n",
              "        </tr>\n",
              "        <tr>\n",
              "            <td>1018</td>\n",
              "            <td>2018</td>\n",
              "            <td>614</td>\n",
              "        </tr>\n",
              "        <tr>\n",
              "            <td>1011</td>\n",
              "            <td>2011</td>\n",
              "            <td>614</td>\n",
              "        </tr>\n",
              "        <tr>\n",
              "            <td>1027</td>\n",
              "            <td>2027</td>\n",
              "            <td>530</td>\n",
              "        </tr>\n",
              "        <tr>\n",
              "            <td>1029</td>\n",
              "            <td>2029</td>\n",
              "            <td>516</td>\n",
              "        </tr>\n",
              "        <tr>\n",
              "            <td>1022</td>\n",
              "            <td>2022</td>\n",
              "            <td>516</td>\n",
              "        </tr>\n",
              "        <tr>\n",
              "            <td>1010</td>\n",
              "            <td>2010</td>\n",
              "            <td>472</td>\n",
              "        </tr>\n",
              "    </tbody>\n",
              "</table>"
            ]
          },
          "metadata": {},
          "execution_count": 27
        }
      ]
    },
    {
      "cell_type": "code",
      "source": [
        "%%sql sqlite://\n",
        "\n",
        "-- min and max aggregate functions for total_order_price\n",
        "\n",
        "-- SELECT min(order_total_price) AS lowest_order_total\n",
        "SELECT max(order_total_price) AS highest_order_total\n",
        "FROM (\n",
        "    SELECT o.order_id, SUM(oi.quantity * oi.list_price) AS order_total_price\n",
        "    FROM orders o\n",
        "    JOIN order_items oi ON o.order_id = oi.order_id\n",
        "    GROUP BY o.order_id\n",
        ") AS order_totals;"
      ],
      "metadata": {
        "colab": {
          "base_uri": "https://localhost:8080/",
          "height": 62
        },
        "id": "8exfdmvF_TaL",
        "outputId": "e47efd93-061e-4979-bdc2-e513e00ad088"
      },
      "execution_count": 29,
      "outputs": [
        {
          "output_type": "execute_result",
          "data": {
            "text/plain": [
              "+---------------------+\n",
              "| highest_order_total |\n",
              "+---------------------+\n",
              "|         774         |\n",
              "+---------------------+"
            ],
            "text/html": [
              "<table>\n",
              "    <thead>\n",
              "        <tr>\n",
              "            <th>highest_order_total</th>\n",
              "        </tr>\n",
              "    </thead>\n",
              "    <tbody>\n",
              "        <tr>\n",
              "            <td>774</td>\n",
              "        </tr>\n",
              "    </tbody>\n",
              "</table>"
            ]
          },
          "metadata": {},
          "execution_count": 29
        }
      ]
    },
    {
      "cell_type": "code",
      "source": [
        "%%sql sqlite://\n",
        "\n",
        "-- information for cancelled orders from multiple tables\n",
        "\n",
        "SELECT\n",
        "  c.name AS customer_name,\n",
        "  c.customer_id AS customer_id,\n",
        "  c.email AS customer_email,\n",
        "  o.order_id,\n",
        "  oi.item_id,\n",
        "  oi.quantity,\n",
        "  oi.item_name,\n",
        "  (oi.quantity * oi.list_price) AS total_price\n",
        "FROM customers c\n",
        "JOIN orders o ON c.customer_id = o.customer_id\n",
        "JOIN order_items oi ON o.order_id = oi.order_id\n",
        "WHERE o.order_status = 'Cancelled';"
      ],
      "metadata": {
        "colab": {
          "base_uri": "https://localhost:8080/",
          "height": 169
        },
        "id": "QvwOgTsvkQWb",
        "outputId": "3edaf043-2263-45e8-96a2-f39ef51915eb"
      },
      "execution_count": 30,
      "outputs": [
        {
          "output_type": "execute_result",
          "data": {
            "text/plain": [
              "+---------------+-------------+---------------------------+----------+---------+----------+---------------------+-------------+\n",
              "| customer_name | customer_id |       customer_email      | order_id | item_id | quantity |      item_name      | total_price |\n",
              "+---------------+-------------+---------------------------+----------+---------+----------+---------------------+-------------+\n",
              "|  Diana Green  |     1004    |  diana.green@example.com  |   2004   |   3001  |    4     |     Insignia Tee    |     308     |\n",
              "|  Diana Green  |     1004    |  diana.green@example.com  |   2004   |   3006  |    1     |     Running Vest    |      98     |\n",
              "| Nathan Carter |     1014    | nathan.carter@example.com |   2014   |   3005  |    3     | L/S Compression Top |     312     |\n",
              "| Nathan Carter |     1014    | nathan.carter@example.com |   2014   |   3007  |    1     |     Half Tights     |      85     |\n",
              "|   Umar Reed   |     1021    |   umar.reed@example.com   |   2021   |   3006  |    2     |     Running Vest    |     196     |\n",
              "|   Umar Reed   |     1021    |   umar.reed@example.com   |   2021   |   3007  |    1     |     Half Tights     |      85     |\n",
              "+---------------+-------------+---------------------------+----------+---------+----------+---------------------+-------------+"
            ],
            "text/html": [
              "<table>\n",
              "    <thead>\n",
              "        <tr>\n",
              "            <th>customer_name</th>\n",
              "            <th>customer_id</th>\n",
              "            <th>customer_email</th>\n",
              "            <th>order_id</th>\n",
              "            <th>item_id</th>\n",
              "            <th>quantity</th>\n",
              "            <th>item_name</th>\n",
              "            <th>total_price</th>\n",
              "        </tr>\n",
              "    </thead>\n",
              "    <tbody>\n",
              "        <tr>\n",
              "            <td>Diana Green</td>\n",
              "            <td>1004</td>\n",
              "            <td>diana.green@example.com</td>\n",
              "            <td>2004</td>\n",
              "            <td>3001</td>\n",
              "            <td>4</td>\n",
              "            <td>Insignia Tee</td>\n",
              "            <td>308</td>\n",
              "        </tr>\n",
              "        <tr>\n",
              "            <td>Diana Green</td>\n",
              "            <td>1004</td>\n",
              "            <td>diana.green@example.com</td>\n",
              "            <td>2004</td>\n",
              "            <td>3006</td>\n",
              "            <td>1</td>\n",
              "            <td>Running Vest</td>\n",
              "            <td>98</td>\n",
              "        </tr>\n",
              "        <tr>\n",
              "            <td>Nathan Carter</td>\n",
              "            <td>1014</td>\n",
              "            <td>nathan.carter@example.com</td>\n",
              "            <td>2014</td>\n",
              "            <td>3005</td>\n",
              "            <td>3</td>\n",
              "            <td>L/S Compression Top</td>\n",
              "            <td>312</td>\n",
              "        </tr>\n",
              "        <tr>\n",
              "            <td>Nathan Carter</td>\n",
              "            <td>1014</td>\n",
              "            <td>nathan.carter@example.com</td>\n",
              "            <td>2014</td>\n",
              "            <td>3007</td>\n",
              "            <td>1</td>\n",
              "            <td>Half Tights</td>\n",
              "            <td>85</td>\n",
              "        </tr>\n",
              "        <tr>\n",
              "            <td>Umar Reed</td>\n",
              "            <td>1021</td>\n",
              "            <td>umar.reed@example.com</td>\n",
              "            <td>2021</td>\n",
              "            <td>3006</td>\n",
              "            <td>2</td>\n",
              "            <td>Running Vest</td>\n",
              "            <td>196</td>\n",
              "        </tr>\n",
              "        <tr>\n",
              "            <td>Umar Reed</td>\n",
              "            <td>1021</td>\n",
              "            <td>umar.reed@example.com</td>\n",
              "            <td>2021</td>\n",
              "            <td>3007</td>\n",
              "            <td>1</td>\n",
              "            <td>Half Tights</td>\n",
              "            <td>85</td>\n",
              "        </tr>\n",
              "    </tbody>\n",
              "</table>"
            ]
          },
          "metadata": {},
          "execution_count": 30
        }
      ]
    },
    {
      "cell_type": "code",
      "source": [
        "%%sql sqlite://\n",
        "\n",
        "-- information for order dates between 11/11 and 11/15 from multiple tables\n",
        "\n",
        "SELECT\n",
        "  c.customer_id AS customer_id,\n",
        "  o.order_id,\n",
        "  oi.item_id,\n",
        "  oi.quantity,\n",
        "  oi.item_name,\n",
        "  o.order_status,\n",
        "  o.order_date\n",
        "FROM customers c\n",
        "JOIN orders o ON c.customer_id = o.customer_id\n",
        "JOIN order_items oi ON o.order_id = oi.order_id\n",
        "WHERE o.order_date < '2024-11-15' AND order_date > '2024-11-11';"
      ],
      "metadata": {
        "colab": {
          "base_uri": "https://localhost:8080/",
          "height": 553
        },
        "id": "AAPkzGSYpJrY",
        "outputId": "4a5a4325-212d-47b0-c661-7b2d28f0055f"
      },
      "execution_count": 31,
      "outputs": [
        {
          "output_type": "execute_result",
          "data": {
            "text/plain": [
              "+-------------+----------+---------+----------+---------------------+--------------+------------+\n",
              "| customer_id | order_id | item_id | quantity |      item_name      | order_status | order_date |\n",
              "+-------------+----------+---------+----------+---------------------+--------------+------------+\n",
              "|     1002    |   2002   |   3002  |    1     |  Insignia Crewneck  |   Pending    | 2024-11-12 |\n",
              "|     1002    |   2002   |   3005  |    3     | L/S Compression Top |   Pending    | 2024-11-12 |\n",
              "|     1003    |   2003   |   3004  |    2     | Insignia Sweatpants |  Delivered   | 2024-11-13 |\n",
              "|     1003    |   2003   |   3007  |    1     |     Half Tights     |  Delivered   | 2024-11-13 |\n",
              "|     1004    |   2004   |   3001  |    4     |     Insignia Tee    |  Cancelled   | 2024-11-14 |\n",
              "|     1004    |   2004   |   3006  |    1     |     Running Vest    |  Cancelled   | 2024-11-14 |\n",
              "|     1017    |   2017   |   3005  |    2     | L/S Compression Top |  Delivered   | 2024-11-12 |\n",
              "|     1017    |   2017   |   3007  |    1     |     Half Tights     |  Delivered   | 2024-11-12 |\n",
              "|     1018    |   2018   |   3002  |    4     |  Insignia Crewneck  |   Pending    | 2024-11-13 |\n",
              "|     1018    |   2018   |   3006  |    1     |     Running Vest    |   Pending    | 2024-11-13 |\n",
              "|     1019    |   2019   |   3001  |    1     |     Insignia Tee    |   Shipped    | 2024-11-14 |\n",
              "|     1019    |   2019   |   3004  |    2     | Insignia Sweatpants |   Shipped    | 2024-11-14 |\n",
              "|     1032    |   2032   |   3002  |    1     |  Insignia Crewneck  |   Shipped    | 2024-11-12 |\n",
              "|     1032    |   2032   |   3007  |    3     |     Half Tights     |   Shipped    | 2024-11-12 |\n",
              "|     1033    |   2033   |   3001  |    1     |     Insignia Tee    |  Delivered   | 2024-11-13 |\n",
              "|     1033    |   2033   |   3004  |    2     | Insignia Sweatpants |  Delivered   | 2024-11-13 |\n",
              "|     1034    |   2034   |   3003  |    2     |   Insignia Hoodie   |   Pending    | 2024-11-14 |\n",
              "|     1034    |   2034   |   3005  |    1     | L/S Compression Top |   Pending    | 2024-11-14 |\n",
              "|     1047    |   2047   |   3001  |    1     |     Insignia Tee    |   Shipped    | 2024-11-12 |\n",
              "|     1047    |   2047   |   3004  |    3     | Insignia Sweatpants |   Shipped    | 2024-11-12 |\n",
              "|     1048    |   2048   |   3003  |    1     |   Insignia Hoodie   |  Delivered   | 2024-11-13 |\n",
              "|     1048    |   2048   |   3005  |    2     | L/S Compression Top |  Delivered   | 2024-11-13 |\n",
              "|     1049    |   2049   |   3006  |    1     |     Running Vest    |   Pending    | 2024-11-14 |\n",
              "|     1049    |   2049   |   3007  |    1     |     Half Tights     |   Pending    | 2024-11-14 |\n",
              "+-------------+----------+---------+----------+---------------------+--------------+------------+"
            ],
            "text/html": [
              "<table>\n",
              "    <thead>\n",
              "        <tr>\n",
              "            <th>customer_id</th>\n",
              "            <th>order_id</th>\n",
              "            <th>item_id</th>\n",
              "            <th>quantity</th>\n",
              "            <th>item_name</th>\n",
              "            <th>order_status</th>\n",
              "            <th>order_date</th>\n",
              "        </tr>\n",
              "    </thead>\n",
              "    <tbody>\n",
              "        <tr>\n",
              "            <td>1002</td>\n",
              "            <td>2002</td>\n",
              "            <td>3002</td>\n",
              "            <td>1</td>\n",
              "            <td>Insignia Crewneck</td>\n",
              "            <td>Pending</td>\n",
              "            <td>2024-11-12</td>\n",
              "        </tr>\n",
              "        <tr>\n",
              "            <td>1002</td>\n",
              "            <td>2002</td>\n",
              "            <td>3005</td>\n",
              "            <td>3</td>\n",
              "            <td>L/S Compression Top</td>\n",
              "            <td>Pending</td>\n",
              "            <td>2024-11-12</td>\n",
              "        </tr>\n",
              "        <tr>\n",
              "            <td>1003</td>\n",
              "            <td>2003</td>\n",
              "            <td>3004</td>\n",
              "            <td>2</td>\n",
              "            <td>Insignia Sweatpants</td>\n",
              "            <td>Delivered</td>\n",
              "            <td>2024-11-13</td>\n",
              "        </tr>\n",
              "        <tr>\n",
              "            <td>1003</td>\n",
              "            <td>2003</td>\n",
              "            <td>3007</td>\n",
              "            <td>1</td>\n",
              "            <td>Half Tights</td>\n",
              "            <td>Delivered</td>\n",
              "            <td>2024-11-13</td>\n",
              "        </tr>\n",
              "        <tr>\n",
              "            <td>1004</td>\n",
              "            <td>2004</td>\n",
              "            <td>3001</td>\n",
              "            <td>4</td>\n",
              "            <td>Insignia Tee</td>\n",
              "            <td>Cancelled</td>\n",
              "            <td>2024-11-14</td>\n",
              "        </tr>\n",
              "        <tr>\n",
              "            <td>1004</td>\n",
              "            <td>2004</td>\n",
              "            <td>3006</td>\n",
              "            <td>1</td>\n",
              "            <td>Running Vest</td>\n",
              "            <td>Cancelled</td>\n",
              "            <td>2024-11-14</td>\n",
              "        </tr>\n",
              "        <tr>\n",
              "            <td>1017</td>\n",
              "            <td>2017</td>\n",
              "            <td>3005</td>\n",
              "            <td>2</td>\n",
              "            <td>L/S Compression Top</td>\n",
              "            <td>Delivered</td>\n",
              "            <td>2024-11-12</td>\n",
              "        </tr>\n",
              "        <tr>\n",
              "            <td>1017</td>\n",
              "            <td>2017</td>\n",
              "            <td>3007</td>\n",
              "            <td>1</td>\n",
              "            <td>Half Tights</td>\n",
              "            <td>Delivered</td>\n",
              "            <td>2024-11-12</td>\n",
              "        </tr>\n",
              "        <tr>\n",
              "            <td>1018</td>\n",
              "            <td>2018</td>\n",
              "            <td>3002</td>\n",
              "            <td>4</td>\n",
              "            <td>Insignia Crewneck</td>\n",
              "            <td>Pending</td>\n",
              "            <td>2024-11-13</td>\n",
              "        </tr>\n",
              "        <tr>\n",
              "            <td>1018</td>\n",
              "            <td>2018</td>\n",
              "            <td>3006</td>\n",
              "            <td>1</td>\n",
              "            <td>Running Vest</td>\n",
              "            <td>Pending</td>\n",
              "            <td>2024-11-13</td>\n",
              "        </tr>\n",
              "        <tr>\n",
              "            <td>1019</td>\n",
              "            <td>2019</td>\n",
              "            <td>3001</td>\n",
              "            <td>1</td>\n",
              "            <td>Insignia Tee</td>\n",
              "            <td>Shipped</td>\n",
              "            <td>2024-11-14</td>\n",
              "        </tr>\n",
              "        <tr>\n",
              "            <td>1019</td>\n",
              "            <td>2019</td>\n",
              "            <td>3004</td>\n",
              "            <td>2</td>\n",
              "            <td>Insignia Sweatpants</td>\n",
              "            <td>Shipped</td>\n",
              "            <td>2024-11-14</td>\n",
              "        </tr>\n",
              "        <tr>\n",
              "            <td>1032</td>\n",
              "            <td>2032</td>\n",
              "            <td>3002</td>\n",
              "            <td>1</td>\n",
              "            <td>Insignia Crewneck</td>\n",
              "            <td>Shipped</td>\n",
              "            <td>2024-11-12</td>\n",
              "        </tr>\n",
              "        <tr>\n",
              "            <td>1032</td>\n",
              "            <td>2032</td>\n",
              "            <td>3007</td>\n",
              "            <td>3</td>\n",
              "            <td>Half Tights</td>\n",
              "            <td>Shipped</td>\n",
              "            <td>2024-11-12</td>\n",
              "        </tr>\n",
              "        <tr>\n",
              "            <td>1033</td>\n",
              "            <td>2033</td>\n",
              "            <td>3001</td>\n",
              "            <td>1</td>\n",
              "            <td>Insignia Tee</td>\n",
              "            <td>Delivered</td>\n",
              "            <td>2024-11-13</td>\n",
              "        </tr>\n",
              "        <tr>\n",
              "            <td>1033</td>\n",
              "            <td>2033</td>\n",
              "            <td>3004</td>\n",
              "            <td>2</td>\n",
              "            <td>Insignia Sweatpants</td>\n",
              "            <td>Delivered</td>\n",
              "            <td>2024-11-13</td>\n",
              "        </tr>\n",
              "        <tr>\n",
              "            <td>1034</td>\n",
              "            <td>2034</td>\n",
              "            <td>3003</td>\n",
              "            <td>2</td>\n",
              "            <td>Insignia Hoodie</td>\n",
              "            <td>Pending</td>\n",
              "            <td>2024-11-14</td>\n",
              "        </tr>\n",
              "        <tr>\n",
              "            <td>1034</td>\n",
              "            <td>2034</td>\n",
              "            <td>3005</td>\n",
              "            <td>1</td>\n",
              "            <td>L/S Compression Top</td>\n",
              "            <td>Pending</td>\n",
              "            <td>2024-11-14</td>\n",
              "        </tr>\n",
              "        <tr>\n",
              "            <td>1047</td>\n",
              "            <td>2047</td>\n",
              "            <td>3001</td>\n",
              "            <td>1</td>\n",
              "            <td>Insignia Tee</td>\n",
              "            <td>Shipped</td>\n",
              "            <td>2024-11-12</td>\n",
              "        </tr>\n",
              "        <tr>\n",
              "            <td>1047</td>\n",
              "            <td>2047</td>\n",
              "            <td>3004</td>\n",
              "            <td>3</td>\n",
              "            <td>Insignia Sweatpants</td>\n",
              "            <td>Shipped</td>\n",
              "            <td>2024-11-12</td>\n",
              "        </tr>\n",
              "        <tr>\n",
              "            <td>1048</td>\n",
              "            <td>2048</td>\n",
              "            <td>3003</td>\n",
              "            <td>1</td>\n",
              "            <td>Insignia Hoodie</td>\n",
              "            <td>Delivered</td>\n",
              "            <td>2024-11-13</td>\n",
              "        </tr>\n",
              "        <tr>\n",
              "            <td>1048</td>\n",
              "            <td>2048</td>\n",
              "            <td>3005</td>\n",
              "            <td>2</td>\n",
              "            <td>L/S Compression Top</td>\n",
              "            <td>Delivered</td>\n",
              "            <td>2024-11-13</td>\n",
              "        </tr>\n",
              "        <tr>\n",
              "            <td>1049</td>\n",
              "            <td>2049</td>\n",
              "            <td>3006</td>\n",
              "            <td>1</td>\n",
              "            <td>Running Vest</td>\n",
              "            <td>Pending</td>\n",
              "            <td>2024-11-14</td>\n",
              "        </tr>\n",
              "        <tr>\n",
              "            <td>1049</td>\n",
              "            <td>2049</td>\n",
              "            <td>3007</td>\n",
              "            <td>1</td>\n",
              "            <td>Half Tights</td>\n",
              "            <td>Pending</td>\n",
              "            <td>2024-11-14</td>\n",
              "        </tr>\n",
              "    </tbody>\n",
              "</table>"
            ]
          },
          "metadata": {},
          "execution_count": 31
        }
      ]
    },
    {
      "cell_type": "code",
      "source": [
        "%%sql sqlite://\n",
        "\n",
        "-- information for orders of Insignia Sweatpants from multiple tables\n",
        "\n",
        "SELECT\n",
        "  c.name AS customer_name,\n",
        "  c.customer_id AS customer_id,\n",
        "  c.email AS customer_email,\n",
        "  o.order_id,\n",
        "  oi.item_id,\n",
        "  oi.quantity,\n",
        "  o.order_status,\n",
        "  o.order_date,\n",
        "  (oi.quantity * oi.list_price) AS total_price\n",
        "FROM customers c\n",
        "JOIN orders o ON c.customer_id = o.customer_id\n",
        "JOIN order_items oi ON o.order_id = oi.order_id\n",
        "WHERE oi.item_name = 'Insignia Sweatpants';"
      ],
      "metadata": {
        "id": "63x9guQyqwvE"
      },
      "execution_count": null,
      "outputs": []
    },
    {
      "cell_type": "code",
      "source": [
        "%%sql sqlite://\n",
        "\n",
        "-- Updating Order Status\n",
        "\n",
        "UPDATE orders\n",
        "SET order_status = 'Cancelled'\n",
        "WHERE order_id = 2002;"
      ],
      "metadata": {
        "colab": {
          "base_uri": "https://localhost:8080/",
          "height": 34
        },
        "id": "xGE5gnJCK6Fp",
        "outputId": "839a0d8a-3d40-4fe9-aff8-1e6dfa0d2f57"
      },
      "execution_count": 32,
      "outputs": [
        {
          "output_type": "display_data",
          "data": {
            "text/plain": [
              "1 rows affected."
            ],
            "text/html": [
              "<span style=\"color: green\">1 rows affected.</span>"
            ]
          },
          "metadata": {}
        },
        {
          "output_type": "execute_result",
          "data": {
            "text/plain": [
              "++\n",
              "||\n",
              "++\n",
              "++"
            ],
            "text/html": [
              "<table>\n",
              "    <thead>\n",
              "        <tr>\n",
              "        </tr>\n",
              "    </thead>\n",
              "    <tbody>\n",
              "    </tbody>\n",
              "</table>"
            ]
          },
          "metadata": {},
          "execution_count": 32
        }
      ]
    },
    {
      "cell_type": "code",
      "source": [
        "%%sql sqlite://\n",
        "\n",
        "-- Check Updates\n",
        "\n",
        "SELECT\n",
        "  c.customer_id AS customer_id,\n",
        "  o.order_id,\n",
        "  oi.item_id,\n",
        "  oi.quantity,\n",
        "  oi.item_name,\n",
        "  o.order_status,\n",
        "  o.order_date\n",
        "FROM customers c\n",
        "JOIN orders o ON c.customer_id = o.customer_id\n",
        "JOIN order_items oi ON o.order_id = oi.order_id\n",
        "WHERE o.order_id = 2002;"
      ],
      "metadata": {
        "colab": {
          "base_uri": "https://localhost:8080/",
          "height": 83
        },
        "id": "jjtQkprkLNJK",
        "outputId": "cc5db5fd-4fb3-4693-f4a5-1670a3b5f045"
      },
      "execution_count": 33,
      "outputs": [
        {
          "output_type": "execute_result",
          "data": {
            "text/plain": [
              "+-------------+----------+---------+----------+---------------------+--------------+------------+\n",
              "| customer_id | order_id | item_id | quantity |      item_name      | order_status | order_date |\n",
              "+-------------+----------+---------+----------+---------------------+--------------+------------+\n",
              "|     1002    |   2002   |   3002  |    1     |  Insignia Crewneck  |  Cancelled   | 2024-11-12 |\n",
              "|     1002    |   2002   |   3005  |    3     | L/S Compression Top |  Cancelled   | 2024-11-12 |\n",
              "+-------------+----------+---------+----------+---------------------+--------------+------------+"
            ],
            "text/html": [
              "<table>\n",
              "    <thead>\n",
              "        <tr>\n",
              "            <th>customer_id</th>\n",
              "            <th>order_id</th>\n",
              "            <th>item_id</th>\n",
              "            <th>quantity</th>\n",
              "            <th>item_name</th>\n",
              "            <th>order_status</th>\n",
              "            <th>order_date</th>\n",
              "        </tr>\n",
              "    </thead>\n",
              "    <tbody>\n",
              "        <tr>\n",
              "            <td>1002</td>\n",
              "            <td>2002</td>\n",
              "            <td>3002</td>\n",
              "            <td>1</td>\n",
              "            <td>Insignia Crewneck</td>\n",
              "            <td>Cancelled</td>\n",
              "            <td>2024-11-12</td>\n",
              "        </tr>\n",
              "        <tr>\n",
              "            <td>1002</td>\n",
              "            <td>2002</td>\n",
              "            <td>3005</td>\n",
              "            <td>3</td>\n",
              "            <td>L/S Compression Top</td>\n",
              "            <td>Cancelled</td>\n",
              "            <td>2024-11-12</td>\n",
              "        </tr>\n",
              "    </tbody>\n",
              "</table>"
            ]
          },
          "metadata": {},
          "execution_count": 33
        }
      ]
    },
    {
      "cell_type": "code",
      "source": [
        "%%sql sqlite://\n",
        "\n",
        "-- Delete Cancelled Orders from Database\n",
        "\n",
        "DELETE\n",
        "FROM orders\n",
        "WHERE order_status = 'Cancelled';"
      ],
      "metadata": {
        "colab": {
          "base_uri": "https://localhost:8080/",
          "height": 34
        },
        "id": "yNmrfkVPMaq5",
        "outputId": "048d6e39-9d3a-4a40-fd24-64f5d5991e6d"
      },
      "execution_count": 34,
      "outputs": [
        {
          "output_type": "display_data",
          "data": {
            "text/plain": [
              "4 rows affected."
            ],
            "text/html": [
              "<span style=\"color: green\">4 rows affected.</span>"
            ]
          },
          "metadata": {}
        },
        {
          "output_type": "execute_result",
          "data": {
            "text/plain": [
              "++\n",
              "||\n",
              "++\n",
              "++"
            ],
            "text/html": [
              "<table>\n",
              "    <thead>\n",
              "        <tr>\n",
              "        </tr>\n",
              "    </thead>\n",
              "    <tbody>\n",
              "    </tbody>\n",
              "</table>"
            ]
          },
          "metadata": {},
          "execution_count": 34
        }
      ]
    },
    {
      "cell_type": "code",
      "source": [
        "%%sql sqlite://\n",
        "\n",
        "-- Check Deletions\n",
        "\n",
        "SELECT *\n",
        "FROM orders\n",
        "WHERE order_status = 'Cancelled';"
      ],
      "metadata": {
        "colab": {
          "base_uri": "https://localhost:8080/",
          "height": 40
        },
        "id": "Z78nSh_fMnN7",
        "outputId": "0db1bcdd-e57b-43e7-acfc-5d23c68ae279"
      },
      "execution_count": 35,
      "outputs": [
        {
          "output_type": "execute_result",
          "data": {
            "text/plain": [
              "+----------+-------------+--------------+------------+\n",
              "| order_id | customer_id | order_status | order_date |\n",
              "+----------+-------------+--------------+------------+\n",
              "+----------+-------------+--------------+------------+"
            ],
            "text/html": [
              "<table>\n",
              "    <thead>\n",
              "        <tr>\n",
              "            <th>order_id</th>\n",
              "            <th>customer_id</th>\n",
              "            <th>order_status</th>\n",
              "            <th>order_date</th>\n",
              "        </tr>\n",
              "    </thead>\n",
              "    <tbody>\n",
              "    </tbody>\n",
              "</table>"
            ]
          },
          "metadata": {},
          "execution_count": 35
        }
      ]
    },
    {
      "cell_type": "code",
      "source": [
        "%%sql sqlite://\n",
        "\n",
        "-- delete contents of tables without deleting table\n",
        "\n",
        "DELETE FROM customers;"
      ],
      "metadata": {
        "id": "BZ-ebldA3FYw"
      },
      "execution_count": null,
      "outputs": []
    },
    {
      "cell_type": "code",
      "source": [
        "%%sql sqlite://\n",
        "\n",
        "-- delete entire table\n",
        "\n",
        "DROP TABLE customers;"
      ],
      "metadata": {
        "id": "ZicSwsYP3STs"
      },
      "execution_count": null,
      "outputs": []
    },
    {
      "cell_type": "markdown",
      "source": [
        "### Functions - Not (exactly) Supported with sqlite\n",
        "\n"
      ],
      "metadata": {
        "id": "_EH7v4_tu514"
      }
    },
    {
      "cell_type": "code",
      "source": [
        "%%sql sqlite://\n",
        "\n",
        "-- function for obtaining the number of orders for a specific customer\n",
        "\n",
        "CREATE FUNCTION get_order_count(customer_id INT)\n",
        "RETURNS INT\n",
        "AS\n",
        "BEGIN\n",
        "  RETURN(\n",
        "    SELECT COUNT(*)\n",
        "    FROM orders\n",
        "    WHERE customer_id = customer_id_input\n",
        "  );\n",
        "END;\n",
        "\n",
        "-- function usage\n",
        "\n",
        "SELECT get_order_count(1001) AS order_count;"
      ],
      "metadata": {
        "collapsed": true,
        "id": "scRu-dRTu_D3"
      },
      "execution_count": null,
      "outputs": []
    },
    {
      "cell_type": "code",
      "source": [
        "%%sql sqlite://\n",
        "\n",
        "-- sqlite implementation\n",
        "\n",
        "SELECT c.customer_id,\n",
        "       c.name AS customer_name,\n",
        "       COUNT(o.order_id) AS order_count\n",
        "FROM customers c\n",
        "LEFT JOIN orders o ON c.customer_id = o.customer_id\n",
        "WHERE c.customer_id = 1001\n",
        "GROUP BY c.customer_id;"
      ],
      "metadata": {
        "colab": {
          "base_uri": "https://localhost:8080/",
          "height": 62
        },
        "id": "bYINcT2Qww05",
        "outputId": "ea115fd3-0118-4e17-d9dc-53778981bae9"
      },
      "execution_count": 36,
      "outputs": [
        {
          "output_type": "execute_result",
          "data": {
            "text/plain": [
              "+-------------+---------------+-------------+\n",
              "| customer_id | customer_name | order_count |\n",
              "+-------------+---------------+-------------+\n",
              "|     1001    |  Alice Smith  |      2      |\n",
              "+-------------+---------------+-------------+"
            ],
            "text/html": [
              "<table>\n",
              "    <thead>\n",
              "        <tr>\n",
              "            <th>customer_id</th>\n",
              "            <th>customer_name</th>\n",
              "            <th>order_count</th>\n",
              "        </tr>\n",
              "    </thead>\n",
              "    <tbody>\n",
              "        <tr>\n",
              "            <td>1001</td>\n",
              "            <td>Alice Smith</td>\n",
              "            <td>2</td>\n",
              "        </tr>\n",
              "    </tbody>\n",
              "</table>"
            ]
          },
          "metadata": {},
          "execution_count": 36
        }
      ]
    },
    {
      "cell_type": "code",
      "source": [
        "%%sql sqlite://\n",
        "\n",
        "-- function for obtaining the items in a specific order id\n",
        "\n",
        "CREATE FUNCTION get_order_details(order_id_input INT)\n",
        "RETURN TABLE\n",
        "AS\n",
        "RETURN(\n",
        "    SELECT\n",
        "      oi.item_id,\n",
        "      oi.item_name,\n",
        "      oi.quantity,\n",
        "      oi.list_price,\n",
        "      (oi.quantity * oi.list_price) AS total_price\n",
        "    FROM order_items oi\n",
        "    WHERE oi.order_id = order_id_input\n",
        ");\n",
        "END;\n",
        "\n",
        "-- function usage\n",
        "\n",
        "SELECT *\n",
        "FROM get_order_details(2001);"
      ],
      "metadata": {
        "id": "ifF9E5wtw-qZ"
      },
      "execution_count": null,
      "outputs": []
    },
    {
      "cell_type": "code",
      "source": [
        "%%sql sqlite://\n",
        "\n",
        "-- sqlite implementation\n",
        "\n",
        "SELECT oi.order_id,\n",
        "       oi.item_id,\n",
        "       oi.item_name,\n",
        "       oi.quantity,\n",
        "       oi.list_price,\n",
        "       (oi.quantity * oi.list_price) AS total_price\n",
        "FROM order_items oi\n",
        "WHERE oi.order_id = 2001;"
      ],
      "metadata": {
        "id": "ZJv5XLQ6w_tF"
      },
      "execution_count": null,
      "outputs": []
    },
    {
      "cell_type": "code",
      "source": [
        "%%sql sqlite://\n",
        "\n",
        "-- function for determining the most popular item\n",
        "\n",
        "CREATE FUNCTION get_most_popular_item()\n",
        "RETURN TABLE\n",
        "AS\n",
        "RETURN(\n",
        "  SELECT\n",
        "    item_id,\n",
        "    item_name,\n",
        "    sum(quantity) AS total_quantity_sold\n",
        "  FROM order_items\n",
        "  GROUP BY item_id, item_name\n",
        "  ORDER BY total_quantity_sold DESC\n",
        "  LIMIT 1;\n",
        ");\n",
        "END;\n",
        "\n",
        "-- function usage\n",
        "\n",
        "SELECT *\n",
        "FROM get_most_popular_item();"
      ],
      "metadata": {
        "id": "4Qe4kz54xsJN"
      },
      "execution_count": null,
      "outputs": []
    },
    {
      "cell_type": "code",
      "source": [
        "%%sql sqlite://\n",
        "\n",
        "-- sqlite implementation\n",
        "\n",
        "SELECT oi.item_id,\n",
        "       oi.item_name,\n",
        "       SUM(oi.quantity) AS total_quantity_sold\n",
        "FROM order_items oi\n",
        "GROUP BY oi.item_id, oi.item_name\n",
        "ORDER BY total_quantity_sold DESC\n",
        "LIMIT 1;"
      ],
      "metadata": {
        "id": "4e2V22e0yc9A"
      },
      "execution_count": null,
      "outputs": []
    },
    {
      "cell_type": "markdown",
      "source": [
        "Functions with CREATE VIEW"
      ],
      "metadata": {
        "id": "cp--7MGzzJu5"
      }
    },
    {
      "cell_type": "code",
      "source": [
        "%%sql sqlite://\n",
        "\n",
        "-- create view get order count\n",
        "\n",
        "CREATE VIEW get_order_count AS\n",
        "SELECT c.customer_id,\n",
        "       c.name AS customer_name,\n",
        "       COUNT(o.order_id) AS order_count\n",
        "FROM customers c\n",
        "LEFT JOIN orders o ON c.customer_id = o.customer_id\n",
        "GROUP BY c.customer_id;"
      ],
      "metadata": {
        "colab": {
          "base_uri": "https://localhost:8080/",
          "height": 17
        },
        "collapsed": true,
        "id": "dV-yHAXgyroh",
        "outputId": "bbe0c4e9-4ffd-4afa-9665-a8e7b80ebeca"
      },
      "execution_count": 37,
      "outputs": [
        {
          "output_type": "execute_result",
          "data": {
            "text/plain": [
              "++\n",
              "||\n",
              "++\n",
              "++"
            ],
            "text/html": [
              "<table>\n",
              "    <thead>\n",
              "        <tr>\n",
              "        </tr>\n",
              "    </thead>\n",
              "    <tbody>\n",
              "    </tbody>\n",
              "</table>"
            ]
          },
          "metadata": {},
          "execution_count": 37
        }
      ]
    },
    {
      "cell_type": "code",
      "source": [
        "%%sql sqlite://\n",
        "\n",
        "-- get order count usage\n",
        "\n",
        "SELECT *\n",
        "FROM get_order_count\n",
        "WHERE customer_id = 1001;"
      ],
      "metadata": {
        "colab": {
          "base_uri": "https://localhost:8080/",
          "height": 62
        },
        "id": "BLFqXma7yu6f",
        "outputId": "e151c32b-fdf1-4c61-9db9-2af9f1ff4a97"
      },
      "execution_count": 38,
      "outputs": [
        {
          "output_type": "execute_result",
          "data": {
            "text/plain": [
              "+-------------+---------------+-------------+\n",
              "| customer_id | customer_name | order_count |\n",
              "+-------------+---------------+-------------+\n",
              "|     1001    |  Alice Smith  |      2      |\n",
              "+-------------+---------------+-------------+"
            ],
            "text/html": [
              "<table>\n",
              "    <thead>\n",
              "        <tr>\n",
              "            <th>customer_id</th>\n",
              "            <th>customer_name</th>\n",
              "            <th>order_count</th>\n",
              "        </tr>\n",
              "    </thead>\n",
              "    <tbody>\n",
              "        <tr>\n",
              "            <td>1001</td>\n",
              "            <td>Alice Smith</td>\n",
              "            <td>2</td>\n",
              "        </tr>\n",
              "    </tbody>\n",
              "</table>"
            ]
          },
          "metadata": {},
          "execution_count": 38
        }
      ]
    },
    {
      "cell_type": "code",
      "source": [
        "%%sql sqlite://\n",
        "\n",
        "-- create view get order details\n",
        "\n",
        "CREATE VIEW get_order_details AS\n",
        "SELECT\n",
        "    oi.order_id,\n",
        "    oi.item_id,\n",
        "    oi.item_name,\n",
        "    oi.quantity,\n",
        "    oi.list_price,\n",
        "    (oi.quantity * oi.list_price) AS total_price\n",
        "FROM order_items oi;"
      ],
      "metadata": {
        "id": "W_1Rc6F5z9TE"
      },
      "execution_count": null,
      "outputs": []
    },
    {
      "cell_type": "code",
      "source": [
        "%%sql sqlite://\n",
        "\n",
        "-- get order details usage\n",
        "\n",
        "SELECT *\n",
        "FROM get_order_details\n",
        "WHERE order_id = 2001;"
      ],
      "metadata": {
        "id": "uWyYBgUfQGS3"
      },
      "execution_count": null,
      "outputs": []
    },
    {
      "cell_type": "code",
      "source": [
        "%%sql sqlite://\n",
        "\n",
        "-- create view get most popular item\n",
        "\n",
        "CREATE VIEW get_most_popular_item AS\n",
        "SELECT\n",
        "    item_id,\n",
        "    item_name,\n",
        "    SUM(quantity) AS total_quantity_sold\n",
        "FROM order_items\n",
        "GROUP BY item_id, item_name\n",
        "ORDER BY total_quantity_sold DESC;"
      ],
      "metadata": {
        "id": "2VKZW7MLQt1w"
      },
      "execution_count": null,
      "outputs": []
    },
    {
      "cell_type": "code",
      "source": [
        "%%sql sqlite://\n",
        "\n",
        "-- get most popular item usage\n",
        "\n",
        "SELECT *\n",
        "FROM get_most_popular_item\n",
        "LIMIT 1;"
      ],
      "metadata": {
        "id": "FR9a9hY1RSkL"
      },
      "execution_count": null,
      "outputs": []
    },
    {
      "cell_type": "markdown",
      "source": [
        "### How to Read/Write Files"
      ],
      "metadata": {
        "id": "5MQn7hB6GzrO"
      }
    },
    {
      "cell_type": "code",
      "source": [
        "%%sql sqlite://\n",
        "\n",
        "-- Reading\n",
        "-- LOAD DATA INFILE - MySQL\n",
        "\n",
        "LOAD DATA INFILE '/path/to/file.csv'\n",
        "INTO TABLE table_name\n",
        "FIELDS TERMINATED BY ',' -- field delimited\n",
        "LINES TERMINATED BY '\\n' -- line delimiter\n",
        "IGNORE 1 LINES -- skipping header row\n",
        "(column1, column2, column3);"
      ],
      "metadata": {
        "id": "fbouZCgaFo2v"
      },
      "execution_count": null,
      "outputs": []
    },
    {
      "cell_type": "code",
      "source": [
        "%%sql sqlite://\n",
        "\n",
        "-- Writing\n",
        "-- SELECT INTO OUTFILE - MySQL\n",
        "\n",
        "SELECT *\n",
        "INTO OUTFILE '/path/to/output.csv'\n",
        "FIELDS TERMINATED BY ','  -- Field delimiter\n",
        "LINES TERMINATED BY '\\n'; -- Line delimiter"
      ],
      "metadata": {
        "id": "BtKLj38GGRYg"
      },
      "execution_count": null,
      "outputs": []
    },
    {
      "cell_type": "code",
      "source": [
        "%%sql sqlite://\n",
        "\n",
        "-- Reading and Writing\n",
        "-- COPY - PostgreSQL\n",
        "\n",
        "COPY my_table(column1, column2, column3)\n",
        "FROM '/path/to/file.csv' OR '/path/to/output.csv'\n",
        "DELIMITER ','\n",
        "CSV HEADER; -- skipping header row"
      ],
      "metadata": {
        "id": "F5LKobHDF-x2"
      },
      "execution_count": null,
      "outputs": []
    }
  ]
}